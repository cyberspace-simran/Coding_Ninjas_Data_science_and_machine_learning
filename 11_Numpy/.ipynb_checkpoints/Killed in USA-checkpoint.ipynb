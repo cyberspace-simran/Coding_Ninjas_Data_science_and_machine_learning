{
 "cells": [
  {
   "cell_type": "code",
   "execution_count": 33,
   "metadata": {},
   "outputs": [
    {
     "name": "stdout",
     "output_type": "stream",
     "text": [
      "3771.0\n"
     ]
    }
   ],
   "source": [
    "import csv\n",
    "import numpy as np \n",
    "with open('terrorismData.csv',\"r\",encoding='utf-8') as obj:\n",
    "    data = csv.DictReader(obj , skipinitialspace = True )\n",
    "\n",
    "    killed  = []\n",
    "    country = []\n",
    "\n",
    "    for row in data :\n",
    "        killed.append(row['Killed'])\n",
    "        country.append(row['Country'])\n",
    "\n",
    "    np_killed =np.array(killed)\n",
    "\n",
    "    np_killed[np_killed == ''] = '0.0'\n",
    "\n",
    "    np_killed = np.array(np_killed, dtype = float)\n",
    "    \n",
    "    np_country  = np.array(country)\n",
    "    \n",
    "    bool_arr =  np_country == 'United States'\n",
    "    ans = np_killed[bool_arr]\n",
    "    print(sum(ans))\n",
    "    \n",
    "#     for i in ans:\n",
    "#         print(i)\n",
    "    \n",
    "  \n",
    "    \n",
    "    "
   ]
  },
  {
   "cell_type": "code",
   "execution_count": null,
   "metadata": {},
   "outputs": [],
   "source": []
  }
 ],
 "metadata": {
  "kernelspec": {
   "display_name": "Python 3",
   "language": "python",
   "name": "python3"
  },
  "language_info": {
   "codemirror_mode": {
    "name": "ipython",
    "version": 3
   },
   "file_extension": ".py",
   "mimetype": "text/x-python",
   "name": "python",
   "nbconvert_exporter": "python",
   "pygments_lexer": "ipython3",
   "version": "3.8.3"
  }
 },
 "nbformat": 4,
 "nbformat_minor": 4
}
