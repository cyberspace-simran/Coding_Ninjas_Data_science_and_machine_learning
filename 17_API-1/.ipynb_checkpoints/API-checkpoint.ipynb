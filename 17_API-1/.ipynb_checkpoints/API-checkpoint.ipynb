{
 "cells": [
  {
   "cell_type": "code",
   "execution_count": 28,
   "metadata": {},
   "outputs": [
    {
     "name": "stdout",
     "output_type": "stream",
     "text": [
      "401\n"
     ]
    }
   ],
   "source": [
    "import requests\n",
    "from requests.auth import HTTPBasicAuth\n",
    "a = requests.get('https://api.github.com/user', auth = ('darkdoll-cyberspace','password did not work so u need to provide the token!!'))\n",
    "print(a.status_code)\n"
   ]
  },
  {
   "cell_type": "code",
   "execution_count": 36,
   "metadata": {},
   "outputs": [
    {
     "data": {
      "text/plain": [
       "<Response [200]>"
      ]
     },
     "execution_count": 36,
     "metadata": {},
     "output_type": "execute_result"
    }
   ],
   "source": [
    "from requests.auth import HTTPBasicAuth\n",
    "requests.get('https://api.github.com/user', auth=HTTPBasicAuth('darkdoll.cyberspace@gmail.com','4f81d8de631dac4f5a9284312643b3d06cbd5cd9'))\n",
    "# 8725810895"
   ]
  },
  {
   "cell_type": "code",
   "execution_count": 35,
   "metadata": {},
   "outputs": [
    {
     "data": {
      "text/plain": [
       "<Response [401]>"
      ]
     },
     "execution_count": 35,
     "metadata": {},
     "output_type": "execute_result"
    }
   ],
   "source": [
    "from requests.auth import HTTPDigestAuth\n",
    "url = 'https://httpbin.org/digest-auth/auth/user/pass'\n",
    "requests.get('https://api.github.com/user', auth=HTTPDigestAuth('darkdoll.cyberspace@gmail.com','4f81d8de631dac4f5a9284312643b3d06cbd5cd9'))"
   ]
  },
  {
   "cell_type": "code",
   "execution_count": 37,
   "metadata": {},
   "outputs": [
    {
     "name": "stdout",
     "output_type": "stream",
     "text": [
      "200\n"
     ]
    }
   ],
   "source": [
    "import requests\n",
    "from requests.auth import HTTPBasicAuth\n",
    "a = requests.get('https://api.github.com/user', auth = ('darkdoll.cyberspace@gmail.com','4f81d8de631dac4f5a9284312643b3d06cbd5cd9'))\n",
    "print(a.status_code)\n",
    "\n"
   ]
  },
  {
   "cell_type": "code",
   "execution_count": 43,
   "metadata": {},
   "outputs": [],
   "source": [
    "import requests\n",
    "from requests.auth import HTTPBasicAuth\n",
    "import json \n",
    "info = {'name':'API_test' , 'description' : 'exploring', 'auto_init':'true'}\n",
    "a = requests.post('https://api.github.com/user/repos', auth = ('darkdoll.cyberspace@gmail.com','4f81d8de631dac4f5a9284312643b3d06cbd5cd9'),\n",
    "                 data = json.dumps(info))\n"
   ]
  },
  {
   "cell_type": "code",
   "execution_count": 46,
   "metadata": {},
   "outputs": [
    {
     "name": "stdout",
     "output_type": "stream",
     "text": [
      "Apache License 2.0\n"
     ]
    }
   ],
   "source": [
    "\n",
    "import requests\n",
    "from requests.auth import HTTPBasicAuth\n",
    "import json \n",
    "\n",
    "license = requests.get('https://api.github.com/' + 'repos/google/go-cloud',auth=('darkdoll.cyberspace@gmail.com','4f81d8de631dac4f5a9284312643b3d06cbd5cd9'))\n",
    "print(license.json().get('license').get('name'))"
   ]
  },
  {
   "cell_type": "code",
   "execution_count": 55,
   "metadata": {},
   "outputs": [
    {
     "name": "stdout",
     "output_type": "stream",
     "text": [
      "Swift\n"
     ]
    }
   ],
   "source": [
    "\n",
    "import requests\n",
    "from requests.auth import HTTPBasicAuth\n",
    "import json \n",
    "\n",
    "lang = requests.get('https://api.github.com/' + 'repos/google/science-journal-ios',auth=('darkdoll.cyberspace@gmail.com','4f81d8de631dac4f5a9284312643b3d06cbd5cd9'))\n",
    "print(lang.json().get('language'))"
   ]
  },
  {
   "cell_type": "code",
   "execution_count": 56,
   "metadata": {},
   "outputs": [
    {
     "name": "stdout",
     "output_type": "stream",
     "text": [
      "https://api.github.com/user\n"
     ]
    },
    {
     "data": {
      "text/plain": [
       "<Response [401]>"
      ]
     },
     "execution_count": 56,
     "metadata": {},
     "output_type": "execute_result"
    }
   ],
   "source": [
    "import json\n",
    "from requests.auth import HTTPBasicAuth\n",
    "\n",
    "response = requests.get('https://api.github.com/user', auth = ('nidhi@codingninjas.in', 'cnninjas_123'))\n",
    "print(response.url)\n",
    "response"
   ]
  },
  {
   "cell_type": "code",
   "execution_count": 60,
   "metadata": {},
   "outputs": [
    {
     "name": "stdout",
     "output_type": "stream",
     "text": [
      "message\n",
      "documentation_url\n"
     ]
    }
   ],
   "source": [
    "## Open and read data file as specified in the question\n",
    "## Print the required output in given format\n",
    "# print(\"Swift\")\n",
    "# print(\"HTML\")\n",
    "# print(\"Python\")\n",
    "# print(\"Ruby\")\n",
    "# print(\"Shell\")\n",
    "import requests\n",
    "from requests.auth import HTTPBasicAuth\n",
    "import json \n",
    "\n",
    "lang = requests.get('https://api.github.com/' + 'repos/google/science-journal-ios/language',auth=('darkdoll.cyberspace@gmail.com','4f81d8de631dac4f5a9284312643b3d06cbd5cd9'))\n",
    "# print(lang.json().get('language'))\n",
    "py=lang.json()\n",
    "for i in py:\n",
    "    print(i)"
   ]
  },
  {
   "cell_type": "code",
   "execution_count": 63,
   "metadata": {},
   "outputs": [
    {
     "name": "stdout",
     "output_type": "stream",
     "text": [
      "id\n",
      "node_id\n",
      "name\n",
      "full_name\n",
      "private\n",
      "owner\n",
      "html_url\n",
      "description\n",
      "fork\n",
      "url\n",
      "forks_url\n",
      "keys_url\n",
      "collaborators_url\n",
      "teams_url\n",
      "hooks_url\n",
      "issue_events_url\n",
      "events_url\n",
      "assignees_url\n",
      "branches_url\n",
      "tags_url\n",
      "blobs_url\n",
      "git_tags_url\n",
      "git_refs_url\n",
      "trees_url\n",
      "statuses_url\n",
      "languages_url\n",
      "stargazers_url\n",
      "contributors_url\n",
      "subscribers_url\n",
      "subscription_url\n",
      "commits_url\n",
      "git_commits_url\n",
      "comments_url\n",
      "issue_comment_url\n",
      "contents_url\n",
      "compare_url\n",
      "merges_url\n",
      "archive_url\n",
      "downloads_url\n",
      "issues_url\n",
      "pulls_url\n",
      "milestones_url\n",
      "notifications_url\n",
      "labels_url\n",
      "releases_url\n",
      "deployments_url\n",
      "created_at\n",
      "updated_at\n",
      "pushed_at\n",
      "git_url\n",
      "ssh_url\n",
      "clone_url\n",
      "svn_url\n",
      "homepage\n",
      "size\n",
      "stargazers_count\n",
      "watchers_count\n",
      "language\n",
      "has_issues\n",
      "has_projects\n",
      "has_downloads\n",
      "has_wiki\n",
      "has_pages\n",
      "forks_count\n",
      "mirror_url\n",
      "archived\n",
      "disabled\n",
      "open_issues_count\n",
      "license\n",
      "topics\n",
      "forks\n",
      "open_issues\n",
      "watchers\n",
      "default_branch\n",
      "permissions\n",
      "temp_clone_token\n",
      "organization\n",
      "network_count\n",
      "subscribers_count\n"
     ]
    }
   ],
   "source": [
    "import requests\n",
    "from requests.auth import HTTPBasicAuth\n",
    "import json \n",
    "header={\"Accept\":\"application/vnd.github.mercy-preview+json\"}\n",
    "lang = requests.get('https://api.github.com/' + 'repos/google/clusterfuzz',auth=('darkdoll.cyberspace@gmail.com','4f81d8de631dac4f5a9284312643b3d06cbd5cd9'),headers=header)\n",
    "py=lang.json()\n",
    "for i in py:\n",
    "    print(i)"
   ]
  },
  {
   "cell_type": "code",
   "execution_count": null,
   "metadata": {},
   "outputs": [],
   "source": []
  }
 ],
 "metadata": {
  "kernelspec": {
   "display_name": "Python 3",
   "language": "python",
   "name": "python3"
  },
  "language_info": {
   "codemirror_mode": {
    "name": "ipython",
    "version": 3
   },
   "file_extension": ".py",
   "mimetype": "text/x-python",
   "name": "python",
   "nbconvert_exporter": "python",
   "pygments_lexer": "ipython3",
   "version": "3.8.5"
  }
 },
 "nbformat": 4,
 "nbformat_minor": 4
}
