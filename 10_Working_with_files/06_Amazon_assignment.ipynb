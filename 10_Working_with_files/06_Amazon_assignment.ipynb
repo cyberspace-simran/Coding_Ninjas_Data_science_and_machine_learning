{
 "cells": [
  {
   "cell_type": "raw",
   "metadata": {},
   "source": [
    "Amazon Job Dataset\n",
    "Send Feedback\n",
    "For this assignment, we'll be using \"Amazon Job Dataset\" which is collected by scraping https://amazon.jobs.\n",
    "Different fields of dataset and what they represent\n",
    "Title : The title of the job\n",
    "Location : Location of the job\n",
    "Posting_date : Posting date of the job\n",
    "Description: Overall description for the job\n",
    "Basic Qualifications: Minimum Qualifications for the job\n",
    "Preferred Qualifications: Preferred Qualifications for the job\n",
    "By analysing this dataset, we can find out many interesting insights such as -\n",
    "- number of job openings in a specific location\n",
    "- jobs available for a specific qualification\n",
    "- Most popular skillset \n",
    "- and many other things"
   ]
  },
  {
   "cell_type": "raw",
   "metadata": {},
   "source": [
    "Job Location\n",
    "Send Feedback\n",
    "Given File 'amazonjobsdataset.csv'\n",
    "It is a dataset including information on amazon job opening around the world from June 2011 to March 2018. This dataset is collected using Selenium and BeautifulSoup by scraping all of the jobs for Amazon job site.\n",
    "Problem Statement :\n",
    "Find number of job openings in Bangalore,IN and in Seattle,US?\n",
    "Print the Number of Job opening in Bangalore and Seattle as Integer value.\n",
    "Output Format :\n",
    "CountBangalore CountSeattle"
   ]
  },
  {
   "cell_type": "code",
   "execution_count": 40,
   "metadata": {},
   "outputs": [],
   "source": [
    "import csv\n",
    "with open('amazon_jobs_dataset.csv',\"r\",encoding='utf-8') as file_obj:\n",
    "        \n",
    "    file_data = csv.DictReader(file_obj , skipinitialspace = True )\n",
    "    file_list = list(file_data)\n",
    "\n",
    "    count = 0\n",
    "    for row in file_data:\n",
    "        if row[\"location\"] == \"US, WA, Seattle\" :\n",
    "            count = count + 1\n",
    "        print(count)    "
   ]
  },
  {
   "cell_type": "code",
   "execution_count": 52,
   "metadata": {},
   "outputs": [
    {
     "name": "stdout",
     "output_type": "stream",
     "text": [
      "66   1856\n"
     ]
    }
   ],
   "source": [
    "import csv\n",
    "bang_count=0\n",
    "seattle_count=0\n",
    "with open('amazon_jobs_dataset.csv',\"r\",encoding='utf-8') as file_obj:\n",
    "    file_data = csv.DictReader(file_obj, skipinitialspace = True)\n",
    "    for row in file_data :\n",
    "        location=row[\"location\"].strip()\n",
    "        if location[:2]==\"IN\" and (\"Bangalore\" in location):\n",
    "            bang_count+=1\n",
    "        elif location[:2]==\"US\" and (\"Seattle\" in location):\n",
    "            seattle_count+=1\n",
    "    \n",
    "print(bang_count,\" \",seattle_count)"
   ]
  },
  {
   "cell_type": "code",
   "execution_count": 63,
   "metadata": {},
   "outputs": [
    {
     "name": "stdout",
     "output_type": "stream",
     "text": [
      "0\n"
     ]
    }
   ],
   "source": [
    "import csv\n",
    "job =0\n",
    "\n",
    "with open('amazon_jobs_dataset.csv',\"r\",encoding='utf-8') as file_obj:\n",
    "    file_data = csv.DictReader(file_obj, skipinitialspace = True)\n",
    "    for row in file_data :\n",
    "        title=row[\"Title\"].strip()\n",
    "        if title[:2]==\"Computer\" and (\"Computer\" in title):\n",
    "            job +=1\n",
    "        \n",
    "    \n",
    "print(job)"
   ]
  },
  {
   "cell_type": "code",
   "execution_count": 68,
   "metadata": {},
   "outputs": [
    {
     "name": "stdout",
     "output_type": "stream",
     "text": [
      "14\n"
     ]
    }
   ],
   "source": [
    "import csv\n",
    "\n",
    "job_title = 'Vision'\n",
    "lines = 0\n",
    "opening = 0\n",
    "with open('amazon_jobs_dataset.csv',\"r\",encoding='utf-8') as csv_file:\n",
    "    job_reader = csv.reader(csv_file)\n",
    "    \n",
    "    next(job_reader)\n",
    "    \n",
    "    for row in job_reader :\n",
    "        if job_title in row[1]:\n",
    "            opening +=1\n",
    "        lines+=1\n",
    "        \n",
    "print(opening)\n"
   ]
  },
  {
   "cell_type": "code",
   "execution_count": 73,
   "metadata": {},
   "outputs": [
    {
     "name": "stdout",
     "output_type": "stream",
     "text": [
      "0\n"
     ]
    }
   ],
   "source": [
    "import csv\n",
    "CA_count=0\n",
    "\n",
    "with open('amazon_jobs_dataset.csv',\"r\",encoding='utf-8') as file_obj:\n",
    "    file_data = csv.DictReader(file_obj, skipinitialspace = True)\n",
    "    for row in file_data :\n",
    "        month=row[\"Posting_date\"].strip()\n",
    "        if month[:2]==2018 and (\"January\" in month) :\n",
    "            CA_count+=1\n",
    "        \n",
    "    \n",
    "print(CA_count)"
   ]
  },
  {
   "cell_type": "code",
   "execution_count": 80,
   "metadata": {},
   "outputs": [
    {
     "name": "stdout",
     "output_type": "stream",
     "text": [
      "January 907\n"
     ]
    }
   ],
   "source": [
    "import csv\n",
    "\n",
    "job_title = 'March'\n",
    "job_title1 = 'February'\n",
    "job_title2 = 'January'\n",
    "job_year = '2018'\n",
    "lines = 0\n",
    "opening = 0\n",
    "opening1 = 0\n",
    "opening2 = 0\n",
    "with open('amazon_jobs_dataset.csv',\"r\",encoding='utf-8') as csv_file:\n",
    "    job_reader = csv.reader(csv_file)\n",
    "    \n",
    "    next(job_reader)\n",
    "    \n",
    "    for row in job_reader :\n",
    "        if job_title in row[3] and job_year in row[3]:\n",
    "            opening +=1\n",
    "        elif job_title1 in row[3] and job_year in row[3]:\n",
    "            opening1 +=1\n",
    "        elif job_title2 in row[3] and job_year in row[3]:\n",
    "            opening2 +=1\n",
    "            \n",
    "            \n",
    "        lines+=1\n",
    "        \n",
    "#print(opening)\n",
    "        \n",
    "#print(opening1)\n",
    "        \n",
    "#print(opening2)\n",
    "\n",
    "if (opening >= opening1) and (opening >= opening2):\n",
    "    largest = opening\n",
    "elif (opening1 >= opening) and (opening1 >= opening2):\n",
    "    largest = opening1\n",
    "else:\n",
    "    largest = opening2\n",
    "    \n",
    "print(job_title2, largest)"
   ]
  },
  {
   "cell_type": "code",
   "execution_count": 82,
   "metadata": {},
   "outputs": [
    {
     "name": "stdout",
     "output_type": "stream",
     "text": [
      "US, WA, Seattle  1296\n",
      "IN, KA, Bangalore  53\n",
      "US, CA, Cupertino  50\n",
      "RO, Iaşi  0\n",
      "US, CA, East Palo Alto  69\n",
      "US, CA, Santa Monica  15\n",
      "US, CA, Sunnyvale  96\n",
      "US, CA, Palo Alto  98\n",
      "US, MA, Boston  4\n",
      "US, MA, Cambridge  94\n",
      "CA, BC, Vancouver  85\n",
      "US, TX, Austin  30\n",
      "IN, TS, Hyderabad  24\n",
      "US, CA, San Francisco  30\n",
      "DE, BY, Munich  0\n",
      "RO, Iasi  9\n",
      "PL, Gdansk  16\n",
      "PL, Bielany Wroclawskie  1\n",
      "DE, Berlin  14\n",
      "US, CA, Irvine  13\n",
      "CA, ON, Toronto  17\n",
      "US, MA, North Reading  10\n",
      "US, MN, Minneapolis  4\n",
      "AE, Dubai  1\n",
      "US, CA, San Diego  6\n",
      "US, CA, Santa Barbara  5\n",
      "US, OR, Portland  5\n",
      "ES, Madrid  13\n",
      "IT, Vercelli  0\n",
      "US, NJ, Newark  16\n",
      "US, NY, New York  33\n",
      "IN, TN, Chennai  25\n",
      "IL, Herzliya  2\n",
      "DE, Aachen  3\n",
      "US, MA, Westborough  1\n",
      "US, VA, Herndon  32\n",
      "US, WA, Bellevue  40\n",
      "UK, London  14\n",
      "ZA, Cape Town  12\n",
      "US, MA, Andover  0\n",
      "US, CO, Boulder  7\n",
      "US, CA, Santa Cruz  6\n",
      "US, CA, San Luis Obispo  3\n",
      "UK, Cambridge  12\n",
      "SG, Singapore  1\n",
      "AU, NSW, Sydney  9\n",
      "IE, DUBLIN, Dublin  30\n",
      "US, CO, Broomfield  5\n",
      "FR, Paris  2\n",
      "US, Virtual  1\n",
      "UK, Edinburgh  1\n",
      "US, AZ, Tempe  5\n",
      "IL, Haifa  0\n",
      "BR, SP, Sao Paulo  8\n",
      "IN, DL, Gurgaon  1\n",
      "IN, HR, Gurgaon  3\n",
      "CN, Beijing  11\n",
      "MX, EMEX, Mexico City  2\n",
      "NL, The Hague  2\n",
      "US, VA, Ballston  3\n",
      "IT, MI, Milan  0\n",
      "JO, Amman  2\n",
      "CA, MB, Winnipeg  1\n",
      "US, PA, Pittsburgh  2\n",
      "CN, Shenzhen  0\n",
      "US, GA, Atlanta  2\n",
      "UK, N YORK, Heslington  2\n",
      "US, NJ, Jersey City  0\n",
      "TW, TP, Taipei  4\n",
      "US, CO, Denver  7\n",
      "DE, BY, Graben  1\n",
      "CN, Shanghai  3\n",
      "RO, Bucharest  0\n",
      "DE, SN, Dresden  0\n",
      "LU, Luxembourg  6\n",
      "DE, Standortuebergreifend  1\n",
      "US, CA, Foster City  2\n",
      "UK, CAMBS, Cambridge  7\n",
      "IL, Hod Hasharon  0\n",
      "JP, Meguro  4\n",
      "IT, AT, Asti  1\n",
      "IL,    0\n",
      "UK, BRIST, Bristol  1\n",
      "CA, ON,    1\n",
      "IN, MH, Pune  1\n",
      "US, CA, San Jose  2\n",
      "CA,    3\n",
      "CA, ON, Ottawa  2\n",
      " 1\n",
      "US, NV, Las Vegas  1\n"
     ]
    }
   ],
   "source": [
    "import csv\n",
    "#with open('year2017.csv')as file_obj:\n",
    "with open('amazon_jobs_dataset.csv',\"r\",encoding='utf-8') as file_obj:\n",
    "        \n",
    "    file_data = csv.DictReader(file_obj , skipinitialspace = True )\n",
    "    file_list = list(file_data)\n",
    "job_topic = 'Java'    \n",
    "country_job_java = {}\n",
    "for row in file_list:\n",
    "    key = row['location']\n",
    "    value = job_topic in row['BASIC QUALIFICATIONS']\n",
    "    \n",
    "    if value !='':\n",
    "        value =int(float(value))\n",
    "    else:\n",
    "        value = 0\n",
    "        \n",
    "        \n",
    "    if key in country_job_java:\n",
    "        country_job_java[key]+=value\n",
    "    else:\n",
    "        country_job_java[key] = value\n",
    "\n",
    "        \n",
    "\n",
    "for i in country_job_java:\n",
    "    print(i, country_job_java[i])"
   ]
  },
  {
   "cell_type": "code",
   "execution_count": 2,
   "metadata": {},
   "outputs": [
    {
     "name": "stdout",
     "output_type": "stream",
     "text": [
      "US 1993\n"
     ]
    }
   ],
   "source": [
    "import csv\n",
    "with open('amazon_jobs_dataset.csv',\"r\",encoding='utf-8') as obj:\n",
    "    data=csv.reader(obj,skipinitialspace=True)\n",
    "    fun=list(data)\n",
    "    count=0\n",
    "    mo={}\n",
    "    for i in fun[0:]:\n",
    "        key=i[2][:2]\n",
    "        if('Java' in i[5]):\n",
    "            # value=count+1\n",
    "            if key in mo:\n",
    "                mo[key]+=1\n",
    "            else:\n",
    "                mo[key]=1\n",
    "    n=max(mo.values())\n",
    "    for i in mo:\n",
    "        if mo[i] == n:\n",
    "            print(i, n)\n",
    "            break"
   ]
  },
  {
   "cell_type": "code",
   "execution_count": 3,
   "metadata": {},
   "outputs": [
    {
     "name": "stdout",
     "output_type": "stream",
     "text": [
      "US 1993\n"
     ]
    }
   ],
   "source": [
    "import csv\n",
    "with open('amazon_jobs_dataset.csv',\"r\",encoding='utf-8') as obj:\n",
    "    data=csv.reader(obj,skipinitialspace=True)\n",
    "    fun=list(data)\n",
    "    count=0\n",
    "    mo={}\n",
    "    for i in fun[0:]:\n",
    "        key=i[2][:2]\n",
    "        if('Java' in i[5]):\n",
    "            # value=count+1\n",
    "            if key in mo:\n",
    "                mo[key]+=1\n",
    "            else:\n",
    "                mo[key]=1\n",
    "    n=max(mo.values())\n",
    "    for i in mo:\n",
    "        if mo[i] == n:\n",
    "            print(i, n)\n",
    "            break"
   ]
  },
  {
   "cell_type": "code",
   "execution_count": 6,
   "metadata": {},
   "outputs": [
    {
     "name": "stdout",
     "output_type": "stream",
     "text": [
      "Java  99\n"
     ]
    }
   ],
   "source": [
    "import csv\n",
    "with open('amazon_jobs_dataset.csv',\"r\",encoding='utf-8') as obj:\n",
    "    fileData = csv.DictReader(obj, skipinitialspace = True)\n",
    "    li = list(fileData)\n",
    "    count = 0\n",
    "    d = {}\n",
    "    for row in li:\n",
    "        if( \"Bachelor\" in row[\"BASIC QUALIFICATIONS\"] or \"BS\" in row[\"BASIC QUALIFICATIONS\"] or \"BA\" in row[\"BASIC QUALIFICATIONS\"]):\n",
    "            if(\"C++\" in row[\"BASIC QUALIFICATIONS\"] and \"IN\" in row['location'][:2]):\n",
    "                if(\"C++\" in d):\n",
    "                    d[\"C++\"] += 1\n",
    "                else:\n",
    "                    d[\"C++\"] = 1\n",
    "            if(\"Java\" in row[\"BASIC QUALIFICATIONS\"] and \"IN\" in row['location'][:2]):\n",
    "                if(\"Java\" in d):\n",
    "                    d[\"Java\"] += 1\n",
    "                else:\n",
    "                    d[\"Java\"] = 1\n",
    "            if(\"Python\" in row[\"BASIC QUALIFICATIONS\"] and \"IN\" in row['location'][:2]):\n",
    "                if(\"Python\" in d):\n",
    "                    d[\"Python\"] += 1\n",
    "                else:\n",
    "                    d[\"Python\"] = 1\n",
    "    #print(d)\n",
    "    maxData = -1234\n",
    "    \n",
    "    for i in d.values():\n",
    "        maxVal = i\n",
    "        maxData = max(maxData, maxVal)\n",
    "    for i in d:\n",
    "        if(d[i] == maxData):\n",
    "            print(i, \"\", maxData)\n",
    "            break"
   ]
  },
  {
   "cell_type": "code",
   "execution_count": 8,
   "metadata": {},
   "outputs": [
    {
     "name": "stdout",
     "output_type": "stream",
     "text": [
      "2936\n"
     ]
    }
   ],
   "source": [
    "import csv\n",
    "with open('amazon_jobs_dataset.csv',\"r\",encoding='utf-8') as file:\n",
    "    fileData = csv.DictReader(file, skipinitialspace = True)\n",
    "    li = list(fileData)\n",
    "    count = 0\n",
    "    d = {}\n",
    "    for row in li:\n",
    "        if( \"Bachelor\" in row[\"BASIC QUALIFICATIONS\"] or \"BS\" in row[\"BASIC QUALIFICATIONS\"] or \"BA\" in row[\"BASIC QUALIFICATIONS\"]):\n",
    "            count = count+1\n",
    "            \n",
    "    print(count)\n",
    "            "
   ]
  },
  {
   "cell_type": "code",
   "execution_count": null,
   "metadata": {},
   "outputs": [],
   "source": []
  }
 ],
 "metadata": {
  "kernelspec": {
   "display_name": "Python 3",
   "language": "python",
   "name": "python3"
  },
  "language_info": {
   "codemirror_mode": {
    "name": "ipython",
    "version": 3
   },
   "file_extension": ".py",
   "mimetype": "text/x-python",
   "name": "python",
   "nbconvert_exporter": "python",
   "pygments_lexer": "ipython3",
   "version": "3.8.5"
  }
 },
 "nbformat": 4,
 "nbformat_minor": 4
}
