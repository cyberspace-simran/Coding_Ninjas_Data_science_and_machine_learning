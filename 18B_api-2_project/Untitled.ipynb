{
 "cells": [
  {
   "cell_type": "raw",
   "metadata": {},
   "source": [
    "API Project Details\n",
    "Send Feedback\n",
    "In this section, you need to try to find out answer to the given questions using the solutions you have done in Part 1 or you might need to write code to find the answers.\n",
    "Find out the answer, justify them using proper plots and numbers and place them all in a pdf file and upload.\n",
    "Find out answer for each question, put your answer along with the proper explanation and plots in a pdf file. Make a zip file of your pdf file and .ipynb file which is having code, and upload that.\n",
    "Your report will be evaluated manually and score will be awarded accordingly.\n"
   ]
  },
  {
   "cell_type": "markdown",
   "metadata": {},
   "source": [
    "Zomato Dataset Details\n",
    "Send Feedback\n",
    "Dataset Collection -\n",
    "Due to Zomato API Basic Plan restriction, we cannot collect enough data for analysis. To overcome this problem ‘Zomato.csv’ file is provided to analyse the data deeply and to get useful inference.\n",
    "Data has been collected from the Zomato API in the form of .json files(raw data) using the following url and stored in CSV file -\n",
    "https://developers.zomato.com/api/v2.1/search?entity_id=1&entity_type=city&start=1&count=20 \n",
    "Download Link\n",
    "\n",
    "\n",
    "Details of zomato.csv -\n",
    "\n",
    "\n",
    "Restaurant Id : Unique id of every restaurant across various cities of the world\n",
    "Restaurant Name : Name of the restaurant\n",
    "Country Code : Country in which restaurant is located\n",
    "City : City in which restaurant is located\n",
    "Address : Address of the restaurant\n",
    "Locality : Location in the city\n",
    "Locality Verbose : Detailed description of the locality\n",
    "Longitude : Longitude coordinate of the restaurant's location\n",
    "Latitude : Latitude coordinate of the restaurant's location\n",
    "Cuisines : Cuisines offered by the restaurant\n",
    "Average Cost for two : Cost for two people in different currencies\n",
    "Currency : Currency of the country\n",
    "Has Table booking : yes/no\n",
    "Has Online delivery : yes/ no\n",
    "Is delivering : yes/ no\n",
    "Switch to order menu : yes/no\n",
    "Price range : range of price of food\n",
    "Aggregate Rating : Average rating out of 5\n",
    "Rating color : depending upon the average rating color\n",
    "Rating text : text on the basis of rating of rating\n",
    "Votes : Number of ratings casted by people\n",
    "\n",
    "\n",
    "Country Codes :\n",
    " \n",
    "\n",
    "Country Code\n",
    "\n",
    "Country\n",
    "\n",
    "1\n",
    "\n",
    "India\n",
    "\n",
    "14\n",
    "\n",
    "Australia\n",
    "\n",
    "30\n",
    "\n",
    "Brazil\n",
    "\n",
    "37\n",
    "\n",
    "Canada\n",
    "\n",
    "94\n",
    "\n",
    "Indonesia\n",
    "\n",
    "148\n",
    "\n",
    "New Zealand\n",
    "\n",
    "162\n",
    "\n",
    "Phillipines\n",
    "\n",
    "166\n",
    "\n",
    "Qatar\n",
    "\n",
    "184\n",
    "\n",
    "Singapore\n",
    "\n",
    "189\n",
    "\n",
    "South Africa\n",
    "\n",
    "191\n",
    "\n",
    "Sri Lanka\n",
    "\n",
    "208\n",
    "\n",
    "Turkey\n",
    "\n",
    "214\n",
    "\n",
    "UAE\n",
    "\n",
    "215\n",
    "\n",
    "United Kingdom\n",
    "\n",
    "216\n",
    "\n",
    "United States\n",
    "\n"
   ]
  },
  {
   "cell_type": "raw",
   "metadata": {},
   "source": [
    "##The dataset is highly skewed toward the cities included in Delhi-NCR. So, we will summarise all the other cities in Rest of India while those in New Delhi, Ghaziabad, Noida, Gurgaon, Faridabad to Delhi-NCR. Doing this would make our analysis turn toward Delhi-NCR v Rest of India.\n",
    "##Plot the bar graph of number of restaurants present in Delhi NCR vs Rest of India."
   ]
  },
  {
   "cell_type": "code",
   "execution_count": 11,
   "metadata": {},
   "outputs": [
    {
     "ename": "SyntaxError",
     "evalue": "invalid syntax (<ipython-input-11-b4a73a96266b>, line 7)",
     "output_type": "error",
     "traceback": [
      "\u001b[1;36m  File \u001b[1;32m\"<ipython-input-11-b4a73a96266b>\"\u001b[1;36m, line \u001b[1;32m7\u001b[0m\n\u001b[1;33m    res_rest_india=(df[(df[\"City\"]!=\"Gurgaon\")&(df[\"City\"]!=\"New Delhi\")&(df[\"City\"]!=\"Ghaziabad\")&(df[\"City\"]!=\"Noida\")&(df[\"City\"]!=\"Faridabad\")]\u001b[0m\n\u001b[1;37m    ^\u001b[0m\n\u001b[1;31mSyntaxError\u001b[0m\u001b[1;31m:\u001b[0m invalid syntax\n"
     ]
    }
   ],
   "source": [
    "import pandas as pd\n",
    "import numpy as np\n",
    "data=pd.read_csv(\"zomato.csv\",encoding=\"iso-8859-1\")\n",
    "df=data[data[\"Country Code\"]==1]\n",
    "# df[\"City\"].unique()\n",
    "res_delhi=(df[(df[\"City\"]==\"Gurgaon\")|(df[\"City\"]==\"New Delhi\")|(df[\"City\"]==\"Ghaziabad\")|(df[\"City\"]==\"Noida\")|(df[\"City\"]==[\"Faridabad\"] )\n",
    "res_rest_india=(df[(df[\"City\"]!=\"Gurgaon\")&(df[\"City\"]!=\"New Delhi\")&(df[\"City\"]!=\"Ghaziabad\")&(df[\"City\"]!=\"Noida\")&(df[\"City\"]!=\"Faridabad\")] "
   ]
  },
  {
   "cell_type": "code",
   "execution_count": 6,
   "metadata": {},
   "outputs": [
    {
     "ename": "NameError",
     "evalue": "name 'res_delhi' is not defined",
     "output_type": "error",
     "traceback": [
      "\u001b[1;31m---------------------------------------------------------------------------\u001b[0m",
      "\u001b[1;31mNameError\u001b[0m                                 Traceback (most recent call last)",
      "\u001b[1;32m<ipython-input-6-95754e152535>\u001b[0m in \u001b[0;36m<module>\u001b[1;34m\u001b[0m\n\u001b[0;32m      4\u001b[0m \u001b[1;31m### at different places\u001b[0m\u001b[1;33m\u001b[0m\u001b[1;33m\u001b[0m\u001b[1;33m\u001b[0m\u001b[0m\n\u001b[0;32m      5\u001b[0m \u001b[1;33m\u001b[0m\u001b[0m\n\u001b[1;32m----> 6\u001b[1;33m \u001b[0mDelhi_NCR\u001b[0m\u001b[1;33m=\u001b[0m\u001b[0mlen\u001b[0m\u001b[1;33m(\u001b[0m\u001b[1;33m(\u001b[0m\u001b[0mres_delhi\u001b[0m\u001b[1;33m[\u001b[0m\u001b[1;34m\"Restaurant Name\"\u001b[0m\u001b[1;33m]\u001b[0m\u001b[1;33m)\u001b[0m\u001b[1;33m)\u001b[0m\u001b[1;33m\u001b[0m\u001b[1;33m\u001b[0m\u001b[0m\n\u001b[0m\u001b[0;32m      7\u001b[0m \u001b[0mRest_India\u001b[0m\u001b[1;33m=\u001b[0m\u001b[0mlen\u001b[0m\u001b[1;33m(\u001b[0m\u001b[1;33m(\u001b[0m\u001b[0mres_rest_india\u001b[0m\u001b[1;33m[\u001b[0m\u001b[1;34m\"Restaurant Name\"\u001b[0m\u001b[1;33m]\u001b[0m\u001b[1;33m)\u001b[0m\u001b[1;33m)\u001b[0m\u001b[1;33m\u001b[0m\u001b[1;33m\u001b[0m\u001b[0m\n\u001b[0;32m      8\u001b[0m \u001b[0mprint\u001b[0m\u001b[1;33m(\u001b[0m\u001b[0mDelhi_NCR\u001b[0m\u001b[1;33m,\u001b[0m\u001b[0mRest_India\u001b[0m\u001b[1;33m)\u001b[0m\u001b[1;33m\u001b[0m\u001b[1;33m\u001b[0m\u001b[0m\n",
      "\u001b[1;31mNameError\u001b[0m: name 'res_delhi' is not defined"
     ]
    }
   ],
   "source": [
    "\n",
    "import matplotlib.pyplot as plt\n",
    "\n",
    "###some restaurants can have same name as their branches, but that must  be consider as different as they will be\n",
    "### at different places\n",
    "\n",
    "Delhi_NCR=len((res_delhi[\"Restaurant Name\"]))   \n",
    "Rest_India=len((res_rest_india[\"Restaurant Name\"]))\n",
    "print(Delhi_NCR,Rest_India)\n",
    "plt.figure(figsize=(4,6))\n",
    "plt.bar([\"Delhi_NCR\",\"Rest_India\"],[Delhi_NCR,Rest_India],width=0.4)\n",
    "plt.xlabel(\"City Divison\")\n",
    "plt.ylabel(\"No. of Restaurants\")\n",
    "plt.title(\"Restaurants Vs. Cities\")\n",
    "plt.show()"
   ]
  },
  {
   "cell_type": "code",
   "execution_count": null,
   "metadata": {},
   "outputs": [],
   "source": []
  }
 ],
 "metadata": {
  "kernelspec": {
   "display_name": "Python 3",
   "language": "python",
   "name": "python3"
  },
  "language_info": {
   "codemirror_mode": {
    "name": "ipython",
    "version": 3
   },
   "file_extension": ".py",
   "mimetype": "text/x-python",
   "name": "python",
   "nbconvert_exporter": "python",
   "pygments_lexer": "ipython3",
   "version": "3.8.5"
  }
 },
 "nbformat": 4,
 "nbformat_minor": 4
}
