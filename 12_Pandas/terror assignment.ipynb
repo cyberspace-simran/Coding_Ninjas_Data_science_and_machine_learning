{
 "cells": [
  {
   "cell_type": "raw",
   "metadata": {},
   "source": [
    "Terror Attack City\n",
    "Send Feedback\n",
    "Given file \"terrorismData.csv\"\n",
    "It is an open-source database including information on terrorist attacks around the world from 1970 through 2017. This dataset includes systematic data on domestic as well as international terrorist incidents that have occurred during this time period\n",
    "Problem Statement :\n",
    "The Most Dangerous city in Jammu and Kashmir and the terrorist group which is most active in that city?\n",
    "Print count of number of attacks in that city as integer value.\n",
    "Note:Ignoring the Unknown Terrorist Group.Here Dangerous related with the number of terrorist attacks.\n",
    "Output Format :\n",
    "City NumberOfAttack Group\n",
    "\n",
    "\n",
    "\n",
    "\n",
    "\n",
    "\n",
    "Terror Attack\n",
    "Send Feedback\n",
    "Given file \"terrorismData.csv\"\n",
    "It is an open-source database including information on terrorist attacks around the world from 1970 through 2017. This dataset includes systematic data on domestic as well as international terrorist incidents that have occurred during this time period\n",
    "Problem Statement :\n",
    "Find out the Country with Highest Number of Terror Attack and in which year the most number of terrorist attack happened in that country ?\n",
    "Print count of terror attacks as integer value.\n",
    "Output Format :\n",
    "Country NumberOfAttack Year\n",
    "\n",
    "\n",
    "\n",
    "\n",
    "\n",
    "\n",
    "Terror DeadliestAttack\n",
    "Send Feedback\n",
    "Given file \"terrorismData.csv\"\n",
    "It is an open-source database including information on terrorist attacks around the world from 1970 through 2017. This dataset includes systematic data on domestic as well as international terrorist incidents that have occurred during this time period\n",
    "Problem Statement :\n",
    "Most Deadliest attack in a history of HumanKind?\n",
    "Print count of Killed people as integer value.\n",
    "Note: Here Deadliest attack means, in which the most number of people killed.\n",
    "Output Format :\n",
    "NumberOfPeopleKilled Country TerroristGroup\n",
    "\n",
    "\n",
    "\n",
    "\n",
    "\n",
    "Terror Government\n",
    "Send Feedback\n",
    "Given file \"terrorismData.csv\"\n",
    "It is an open-source database including information on terrorist attacks around the world from 1970 through 2017. This dataset includes systematic data on domestic as well as international terrorist incidents that have occurred during this time period\n",
    "Problem Statement :\n",
    "There was formation of new government in India on 26 May 2014. So current government's span is from 26th May 2014 to current. Find out two things from this period-\n",
    "1. Total number of attacks done in this period in India. Find this count as integer.\n",
    "2. Which Terrorist group was most active in this period in India. Most active means, group which has done maximum number of attacks. \n",
    "3.Ignore the Unknown group. \n",
    "Output Format :\n",
    "TotalAttacks MostActiveTerroristGroup\n",
    "\n",
    "\n",
    "\n",
    "\n",
    "\n",
    "Terror Frequency\n",
    "Send Feedback\n",
    "Given file \"terrorismData.csv\"\n",
    "It is an open-source database including information on terrorist attacks around the world from 1970 through 2017. This dataset includes systematic data on domestic as well as international terrorist incidents that have occurred during this time period\n",
    "Problem Statement :\n",
    "Find the frequency of the Casualty in Red Corridor states and in Jammu and Kashmir ?Here Frequency is (Total Casualty/Total Number of a year)\n",
    "Print frequency as integer value.\n",
    "Note:Red Corridor state includes Jharkhand, Odisha, Andhra Pradesh, and Chhattisgarh. Here Casualty=Killed +Wounded.Don't fill the nan value present in Killed and Wounded feature.\n",
    "Output Format :\n",
    "Frequency1 Frequency2 \n"
   ]
  },
  {
   "cell_type": "code",
   "execution_count": 1,
   "metadata": {},
   "outputs": [
    {
     "name": "stdout",
     "output_type": "stream",
     "text": [
      "CITY     COUNT   GROUP\n",
      "Srinagar 657 Muslim Separatists\n"
     ]
    }
   ],
   "source": [
    "import numpy as np\n",
    "import pandas as pd \n",
    "\n",
    "td=pd.read_csv(terrorismData.csv', encoding='utf8')\n",
    "df=td.copy()\n",
    "df=df[df.State=='Jammu and Kashmir']\n",
    "df=df[df.City==df.City.describe().top]\n",
    "count=df.shape[0]\n",
    "df=df[df.Group!='Unknown']\n",
    "city=df.City.describe().top\n",
    "group=df.Group.describe().top\n",
    "print('CITY    ', 'COUNT  ', 'GROUP')\n",
    "print(city, count, group)"
   ]
  },
  {
   "cell_type": "code",
   "execution_count": 2,
   "metadata": {},
   "outputs": [
    {
     "name": "stdout",
     "output_type": "stream",
     "text": [
      "Iraq 24636 2014\n"
     ]
    }
   ],
   "source": [
    "import numpy as np\n",
    "import pandas as pd \n",
    "\n",
    "df=td.copy()\n",
    "df=df[df.Country==df.Country.describe().top]\n",
    "count=df.shape[0]\n",
    "country=df.Country.describe().top\n",
    "y={}\n",
    "for i in df.Year:\n",
    "    if i in y.keys():\n",
    "        y[i]+=1\n",
    "    else:\n",
    "        y[i]=1\n",
    "cnt=0\n",
    "year=0\n",
    "for i in y.keys():\n",
    "    if cnt<y[i]:\n",
    "        cnt=y[i]\n",
    "        year=i\n",
    "print(country, count, year)"
   ]
  },
  {
   "cell_type": "code",
   "execution_count": 4,
   "metadata": {},
   "outputs": [
    {
     "name": "stdout",
     "output_type": "stream",
     "text": [
      "1570 Iraq Islamic State of Iraq and the Levant (ISIL)\n"
     ]
    }
   ],
   "source": [
    "import numpy as np\n",
    "import pandas as pd \n",
    "\n",
    "td=pd.read_csv('terrorismData.csv', encoding='utf8')\n",
    "\n",
    "df=td.copy()\n",
    "df=df[df.Killed==df.Killed.max()]\n",
    "killed=df.Killed.iloc[0]\n",
    "country=df.Country.iloc[0]\n",
    "group=df.Group.iloc[0]\n",
    "print(int(killed), country, group)\n"
   ]
  },
  {
   "cell_type": "code",
   "execution_count": 5,
   "metadata": {},
   "outputs": [
    {
     "name": "stdout",
     "output_type": "stream",
     "text": [
      "3336 Maoists\n"
     ]
    }
   ],
   "source": [
    "import numpy as np\n",
    "import pandas as pd \n",
    "\n",
    "td=pd.read_csv('terrorismData.csv', encoding='utf8')\n",
    "\n",
    "\n",
    "df=td.copy()\n",
    "a=df[df.Day>=26]\n",
    "b=a[a.Year==2014]\n",
    "c=b[b.Country=='India']\n",
    "ans1=c[c.Month==5]\n",
    "del a\n",
    "del b\n",
    "del c\n",
    "a=df[df.Year==2014]\n",
    "b=a[a.Country=='India']\n",
    "ans2=b[b.Month>5]\n",
    "del a\n",
    "del b\n",
    "a=df[df.Country=='India']\n",
    "ans3=a[a.Year>2014]\n",
    "count=ans1.shape[0]+ans2.shape[0]+ans3.shape[0]\n",
    "print(count, end=' ')\n",
    "ans1=ans1[ans1.Group!='Unknown']\n",
    "ans2=ans2[ans2.Group!='Unknown']\n",
    "ans3=ans3[ans3.Group!='Unknown']\n",
    "print(ans3.Group.describe().top)"
   ]
  },
  {
   "cell_type": "code",
   "execution_count": 6,
   "metadata": {},
   "outputs": [
    {
     "name": "stdout",
     "output_type": "stream",
     "text": [
      "115 261\n"
     ]
    }
   ],
   "source": [
    "import numpy as np\n",
    "import pandas as pd \n",
    "\n",
    "td=pd.read_csv('terrorismData.csv', encoding='utf8')\n",
    "\n",
    "df_terrorism=td.copy()\n",
    "\n",
    "year=len(set(df_terrorism['Year']))\n",
    "\n",
    "\n",
    "df_terrorism=df_terrorism[df_terrorism['Country']=='India']\n",
    "\n",
    "df_terrorism['Casualty']=df_terrorism['Killed']+df_terrorism['Wounded']\n",
    "\n",
    "Jammu_state=df_terrorism[df_terrorism['State']=='Jammu and Kashmir']\n",
    "\n",
    "red_state=df_terrorism[(df_terrorism['State']=='Jharkhand')|(df_terrorism['State']=='Odisha')\n",
    "                       |(df_terrorism['State']=='Andhra Pradesh')|(df_terrorism['State']=='Chhattisgarh')]\n",
    "\n",
    "red_casualty=int(np.sum(red_state['Casualty']))\n",
    "\n",
    "Jammu_casualty=int(np.sum(Jammu_state['Casualty']))\n",
    "\n",
    "print(red_casualty//year,Jammu_casualty//year)"
   ]
  },
  {
   "cell_type": "code",
   "execution_count": null,
   "metadata": {},
   "outputs": [],
   "source": []
  }
 ],
 "metadata": {
  "kernelspec": {
   "display_name": "Python 3",
   "language": "python",
   "name": "python3"
  },
  "language_info": {
   "codemirror_mode": {
    "name": "ipython",
    "version": 3
   },
   "file_extension": ".py",
   "mimetype": "text/x-python",
   "name": "python",
   "nbconvert_exporter": "python",
   "pygments_lexer": "ipython3",
   "version": "3.8.5"
  }
 },
 "nbformat": 4,
 "nbformat_minor": 4
}
