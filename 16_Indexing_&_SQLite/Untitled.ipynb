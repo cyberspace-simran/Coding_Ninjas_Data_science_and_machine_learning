{
 "cells": [
  {
   "cell_type": "code",
   "execution_count": 1,
   "metadata": {},
   "outputs": [],
   "source": [
    "import sqlite3"
   ]
  },
  {
   "cell_type": "code",
   "execution_count": 6,
   "metadata": {},
   "outputs": [
    {
     "data": {
      "text/plain": [
       "<sqlite3.Connection at 0x1dbbb3f67b0>"
      ]
     },
     "execution_count": 6,
     "metadata": {},
     "output_type": "execute_result"
    }
   ],
   "source": [
    "db = sqlite3.connect('Employe.sqlite')\n",
    "db"
   ]
  },
  {
   "cell_type": "code",
   "execution_count": 7,
   "metadata": {},
   "outputs": [
    {
     "data": {
      "text/plain": [
       "<sqlite3.Cursor at 0x1dbbb5f27a0>"
      ]
     },
     "execution_count": 7,
     "metadata": {},
     "output_type": "execute_result"
    }
   ],
   "source": [
    "cur = db.cursor()\n",
    "cur \n",
    "sql_query = 'create table EmployeeDetail (employeeid int primary key, names text, age int, department text, salary int )'\n",
    "cur.execute(sql_query)"
   ]
  },
  {
   "cell_type": "code",
   "execution_count": 4,
   "metadata": {
    "collapsed": true
   },
   "outputs": [
    {
     "ename": "IntegrityError",
     "evalue": "UNIQUE constraint failed: EmployeeDetail.employeeid",
     "output_type": "error",
     "traceback": [
      "\u001b[1;31m---------------------------------------------------------------------------\u001b[0m",
      "\u001b[1;31mIntegrityError\u001b[0m                            Traceback (most recent call last)",
      "\u001b[1;32m<ipython-input-4-7e862f716bb4>\u001b[0m in \u001b[0;36m<module>\u001b[1;34m\u001b[0m\n\u001b[1;32m----> 1\u001b[1;33m \u001b[0mcur\u001b[0m\u001b[1;33m.\u001b[0m\u001b[0mexecute\u001b[0m\u001b[1;33m(\u001b[0m\u001b[1;34m'insert into EmployeeDetail values(100, \"rishav\", 25, \"marketing\", 50),(101, \"abhi\", 26, \"marke\", 45),(102, \"shav\", 25, \"marting\", 70)'\u001b[0m\u001b[1;33m)\u001b[0m\u001b[1;33m\u001b[0m\u001b[1;33m\u001b[0m\u001b[0m\n\u001b[0m",
      "\u001b[1;31mIntegrityError\u001b[0m: UNIQUE constraint failed: EmployeeDetail.employeeid"
     ]
    }
   ],
   "source": [
    "cur.execute('insert into EmployeeDetail values(100, \"rishav\", 25, \"marketing\", 50),(101, \"abhi\", 26, \"marke\", 45),(102, \"shav\", 25, \"marting\", 70)')"
   ]
  },
  {
   "cell_type": "code",
   "execution_count": 5,
   "metadata": {},
   "outputs": [],
   "source": [
    "db.commit()"
   ]
  },
  {
   "cell_type": "raw",
   "metadata": {},
   "source": [
    "## Open and read data file as specified in the question\n",
    "## Print the required output in given format\n",
    "employee_id=[100,101,102,103,104,105,106,107,108,109,110,111,112,113]\n",
    "name=['Rishav','Aadarsh','Aarti','Siddharth','Aman','Amit','Shivansh','Vaibhav','Himanshu','Raman','Kunal','Adhira','Tanya']\n",
    "age=[25,25,27,25,24,30,26,23,26,25,26,29,24]\n",
    "department=['Marketing','Marketing','Operations','Finance','HumanResource','Marketing','IT','Finance','IT','Operations','Marketing','Human Resource','Marketing']\n",
    "salary=[50000,50000,60000,85000,75000,50000,90000,85000,90000,60000,50000,75000,50000]\n"
   ]
  },
  {
   "cell_type": "code",
   "execution_count": 15,
   "metadata": {},
   "outputs": [
    {
     "ename": "SyntaxError",
     "evalue": "invalid syntax (<ipython-input-15-badd62f8c3fb>, line 1)",
     "output_type": "error",
     "traceback": [
      "\u001b[1;36m  File \u001b[1;32m\"<ipython-input-15-badd62f8c3fb>\"\u001b[1;36m, line \u001b[1;32m1\u001b[0m\n\u001b[1;33m    cur.execute('insert into EmployeeDetail values(100,101,102,103,104,105,106,107,108,109,110,111,112,113),('Rishav','Aadarsh','Aarti','Siddharth','Aman','Amit','Shivansh','Vaibhav','Himanshu','Raman','Kunal','Adhira','Tanya'), (25,25,27,25,24,30,26,23,26,25,26,29,24),('Marketing','Marketing','Operations','Finance','HumanResource','Marketing','IT','Finance','IT','Operations','Marketing','Human Resource','Marketing'),(50000,50000,60000,85000,75000,50000,90000,85000,90000,60000,50000,75000,50000)')\u001b[0m\n\u001b[1;37m                                                                                                              ^\u001b[0m\n\u001b[1;31mSyntaxError\u001b[0m\u001b[1;31m:\u001b[0m invalid syntax\n"
     ]
    }
   ],
   "source": [
    "cur.execute('insert into EmployeeDetail values(100,101,102,103,104,105,106,107,108,109,110,111,112,113),('Rishav','Aadarsh','Aarti','Siddharth','Aman','Amit','Shivansh','Vaibhav','Himanshu','Raman','Kunal','Adhira','Tanya'), (25,25,27,25,24,30,26,23,26,25,26,29,24),('Marketing','Marketing','Operations','Finance','HumanResource','Marketing','IT','Finance','IT','Operations','Marketing','Human Resource','Marketing'),(50000,50000,60000,85000,75000,50000,90000,85000,90000,60000,50000,75000,50000)')"
   ]
  },
  {
   "cell_type": "code",
   "execution_count": 13,
   "metadata": {},
   "outputs": [
    {
     "name": "stdout",
     "output_type": "stream",
     "text": [
      "Marketing 5\n",
      "Finance 2\n",
      "Operations 2\n",
      "HumanResource 2\n",
      "IT 2\n"
     ]
    }
   ],
   "source": []
  },
  {
   "cell_type": "code",
   "execution_count": 16,
   "metadata": {},
   "outputs": [
    {
     "name": "stdout",
     "output_type": "stream",
     "text": [
      "Finance 2 \n",
      "Human Resource 2 \n",
      "IT 2 \n",
      "Marketing 5 \n",
      "Operations 2 \n"
     ]
    }
   ],
   "source": [
    "import sqlite3\n",
    "employee_id=[100,101,102,103,104,105,106,107,108,109,110,111,112,113]\n",
    "name=['Rishav','Aadarsh','Aarti','Siddharth','Aman','Amit','Shivansh','Vaibhav','Himanshu','Raman','Kunal','Adhira','Tanya']\n",
    "age=[25,25,27,25,24,30,26,23,26,25,26,29,24]\n",
    "department=['Marketing','Marketing','Operations','Finance','Human Resource','Marketing','IT','Finance','IT','Operations','Marketing','Human Resource','Marketing']\n",
    "salary=[50000,50000,60000,85000,75000,50000,90000,85000,90000,60000,50000,75000,50000]\n",
    "a=list(zip(employee_id,name,age,department,salary))\n",
    "db=sqlite3.connect('my')\n",
    "cur=db.cursor()\n",
    "cur.execute('create table employee(id int,name Text ,age int,department Text ,salary int) ')\n",
    "cur.executemany('insert into employee values (?,?,?,?,?)',a)\n",
    "cur.execute(\"select department,count(*) from employee group by department\")\n",
    "for i in cur :\n",
    "    for j in i:\n",
    "        print(j,end=\" \")\n",
    "    print()"
   ]
  },
  {
   "cell_type": "code",
   "execution_count": null,
   "metadata": {},
   "outputs": [],
   "source": []
  }
 ],
 "metadata": {
  "kernelspec": {
   "display_name": "Python 3",
   "language": "python",
   "name": "python3"
  },
  "language_info": {
   "codemirror_mode": {
    "name": "ipython",
    "version": 3
   },
   "file_extension": ".py",
   "mimetype": "text/x-python",
   "name": "python",
   "nbconvert_exporter": "python",
   "pygments_lexer": "ipython3",
   "version": "3.8.5"
  }
 },
 "nbformat": 4,
 "nbformat_minor": 4
}
