{
 "cells": [
  {
   "cell_type": "markdown",
   "metadata": {},
   "source": [
    "open (file name , access_mode)\n",
    "default value is 'r'\n",
    "w is the write\n",
    "'a' is append mode \n",
    "by defauld top left ... wis the mode."
   ]
  },
  {
   "cell_type": "code",
   "execution_count": 44,
   "metadata": {},
   "outputs": [
    {
     "name": "stdout",
     "output_type": "stream",
     "text": [
      "<class 'str'>\n"
     ]
    }
   ],
   "source": [
    "file_obj =  open('W:/Data_Science_topics/Coding_Ninjas_Data_science_and_machine_learning/10_Working_with_files/topics.txt' , 'r')\n",
    "file_obj = file_obj.read()\n",
    "# file_obj\n",
    "print(type (file_obj))"
   ]
  },
  {
   "cell_type": "code",
   "execution_count": 16,
   "metadata": {},
   "outputs": [
    {
     "data": {
      "text/plain": [
       "'What is Lo'"
      ]
     },
     "execution_count": 16,
     "metadata": {},
     "output_type": "execute_result"
    }
   ],
   "source": [
    "# read(n) in is the toral no of bytes present\n",
    "\n",
    "file_obj =  open('W:/Data_Science_topics/Coding_Ninjas_Data_science_and_machine_learning/10_Working_with_files/topics.txt' , 'r')\n",
    "file_obj = file_obj.read(10)\n",
    "file_obj"
   ]
  },
  {
   "cell_type": "code",
   "execution_count": 17,
   "metadata": {},
   "outputs": [
    {
     "data": {
      "text/plain": [
       "'What is Lorem Ipsum?\\n'"
      ]
     },
     "execution_count": 17,
     "metadata": {},
     "output_type": "execute_result"
    }
   ],
   "source": [
    "file_obj =  open('W:/Data_Science_topics/Coding_Ninjas_Data_science_and_machine_learning/10_Working_with_files/topics.txt' , 'r')\n",
    "file_obj = file_obj.readline()\n",
    "file_obj"
   ]
  },
  {
   "cell_type": "code",
   "execution_count": 18,
   "metadata": {},
   "outputs": [
    {
     "data": {
      "text/plain": [
       "'What '"
      ]
     },
     "execution_count": 18,
     "metadata": {},
     "output_type": "execute_result"
    }
   ],
   "source": [
    "file_obj =  open('W:/Data_Science_topics/Coding_Ninjas_Data_science_and_machine_learning/10_Working_with_files/topics.txt' , 'r')\n",
    "file_obj = file_obj.readline(5)\n",
    "file_obj"
   ]
  },
  {
   "cell_type": "code",
   "execution_count": 35,
   "metadata": {},
   "outputs": [
    {
     "data": {
      "text/plain": [
       "'What is Lorem Ipsum?\\n'"
      ]
     },
     "execution_count": 35,
     "metadata": {},
     "output_type": "execute_result"
    }
   ],
   "source": [
    "file_obj =  open('W:/Data_Science_topics/Coding_Ninjas_Data_science_and_machine_learning/10_Working_with_files/topics.txt' , 'r')\n",
    "file_data = file_obj.readline()\n",
    "file_data\n",
    "\n",
    "\n"
   ]
  },
  {
   "cell_type": "code",
   "execution_count": 37,
   "metadata": {},
   "outputs": [
    {
     "data": {
      "text/plain": [
       "'What is Lo'"
      ]
     },
     "execution_count": 37,
     "metadata": {},
     "output_type": "execute_result"
    }
   ],
   "source": [
    "file_obj =  open('W:/Data_Science_topics/Coding_Ninjas_Data_science_and_machine_learning/10_Working_with_files/topics.txt' , 'r')\n",
    "file_data = file_obj.readline(10)\n",
    "file_data"
   ]
  },
  {
   "cell_type": "code",
   "execution_count": 38,
   "metadata": {},
   "outputs": [
    {
     "data": {
      "text/plain": [
       "['What is Lorem Ipsum?\\n',\n",
       " \"Lorem Ipsum is simply dummy text of the printing and typesetting industry. Lorem Ipsum has been the industry's standard dummy text ever since the 1500s, when an unknown printer took a galley of type and scrambled it to make a type specimen book. It has survived not only five centuries, but also the leap into electronic typesetting, remaining essentially unchanged. It was popularised in the 1960s with the release of Letraset sheets containing Lorem Ipsum passages, and more recently with desktop publishing software like Aldus PageMaker including versions of Lorem Ipsum.\\n\",\n",
       " '\\n',\n",
       " 'Why do we use it?\\n',\n",
       " \"It is a long established fact that a reader will be distracted by the readable content of a page when looking at its layout. The point of using Lorem Ipsum is that it has a more-or-less normal distribution of letters, as opposed to using 'Content here, content here', making it look like readable English. Many desktop publishing packages and web page editors now use Lorem Ipsum as their default model text, and a search for 'lorem ipsum' will uncover many web sites still in their infancy. Various versions have evolved over the years, sometimes by accident, sometimes on purpose (injected humour and the like).\\n\",\n",
       " '\\n',\n",
       " '\\n',\n",
       " 'Where does it come from?\\n',\n",
       " 'Contrary to popular belief, Lorem Ipsum is not simply random text. It has roots in a piece of classical Latin literature from 45 BC, making it over 2000 years old. Richard McClintock, a Latin professor at Hampden-Sydney College in Virginia, looked up one of the more obscure Latin words, consectetur, from a Lorem Ipsum passage, and going through the cites of the word in classical literature, discovered the undoubtable source. Lorem Ipsum comes from sections 1.10.32 and 1.10.33 of \"de Finibus Bonorum et Malorum\" (The Extremes of Good and Evil) by Cicero, written in 45 BC. This book is a treatise on the theory of ethics, very popular during the Renaissance. The first line of Lorem Ipsum, \"Lorem ipsum dolor sit amet..\", comes from a line in section 1.10.32.\\n',\n",
       " '\\n',\n",
       " 'The standard chunk of Lorem Ipsum used since the 1500s is reproduced below for those interested. Sections 1.10.32 and 1.10.33 from \"de Finibus Bonorum et Malorum\" by Cicero are also reproduced in their exact original form, accompanied by English versions from the 1914 translation by H. Rackham.\\n',\n",
       " '\\n',\n",
       " 'Where can I get some?\\n',\n",
       " \"There are many variations of passages of Lorem Ipsum available, but the majority have suffered alteration in some form, by injected humour, or randomised words which don't look even slightly believable. If you are going to use a passage of Lorem Ipsum, you need to be sure there isn't anything embarrassing hidden in the middle of text. All the Lorem Ipsum generators on the Internet tend to repeat predefined chunks as necessary, making this the first true generator on the Internet. It uses a dictionary of over 200 Latin words, combined with a handful of model sentence structures, to generate Lorem Ipsum which looks reasonable. The generated Lorem Ipsum is therefore always free from repetition, injected humour, or non-characteristic words etc.\"]"
      ]
     },
     "execution_count": 38,
     "metadata": {},
     "output_type": "execute_result"
    }
   ],
   "source": [
    "file_obj =  open('W:/Data_Science_topics/Coding_Ninjas_Data_science_and_machine_learning/10_Working_with_files/topics.txt' , 'r')\n",
    "file_data = file_obj.readlines()\n",
    "file_data"
   ]
  },
  {
   "cell_type": "code",
   "execution_count": 56,
   "metadata": {},
   "outputs": [
    {
     "name": "stdout",
     "output_type": "stream",
     "text": [
      "<class 'list'>\n",
      "14\n",
      "Why do we use it?\n",
      "\n"
     ]
    }
   ],
   "source": [
    "file_obj =  open('W:/Data_Science_topics/Coding_Ninjas_Data_science_and_machine_learning/10_Working_with_files/topics.txt')\n",
    "file_data = file_obj.readlines()\n",
    "print(type(file_data))\n",
    "print(len(file_data))\n",
    "print(file_data[3])\n"
   ]
  },
  {
   "cell_type": "code",
   "execution_count": 59,
   "metadata": {},
   "outputs": [
    {
     "name": "stdout",
     "output_type": "stream",
     "text": [
      "<class 'list'>\n",
      "14\n",
      "Why do we use it?\n",
      "\n",
      "Why do we use it?\n",
      "\n"
     ]
    }
   ],
   "source": [
    "file_obj =  open('W:/Data_Science_topics/Coding_Ninjas_Data_science_and_machine_learning/10_Working_with_files/topics.txt')\n",
    "file_data = file_obj.readlines()\n",
    "print(type(file_data))\n",
    "print(len(file_data))\n",
    "print(file_data[3])\n",
    "\n",
    "file_obj.close()\n",
    "# file_obj.readlines()\n",
    "print(file_data[3])"
   ]
  },
  {
   "cell_type": "code",
   "execution_count": 63,
   "metadata": {},
   "outputs": [
    {
     "name": "stdout",
     "output_type": "stream",
     "text": [
      "<class 'list'>\n",
      "14\n",
      "Why do we use it?\n",
      "\n"
     ]
    }
   ],
   "source": [
    "with open('W:/Data_Science_topics/Coding_Ninjas_Data_science_and_machine_learning/10_Working_with_files/topics.txt' , 'r') as file_obj:\n",
    "    file_data = file_obj.readlines()\n",
    "    print(type(file_data))\n",
    "    print(len(file_data))\n",
    "    print(file_data[3])\n"
   ]
  },
  {
   "cell_type": "code",
   "execution_count": 65,
   "metadata": {},
   "outputs": [
    {
     "name": "stdout",
     "output_type": "stream",
     "text": [
      "What is Lorem Ipsum?\n",
      "\n",
      "Lorem Ipsum is simply dummy text of the printing and typesetting industry. Lorem Ipsum has been the industry's standard dummy text ever since the 1500s, when an unknown printer took a galley of type and scrambled it to make a type specimen book. It has survived not only five centuries, but also the leap into electronic typesetting, remaining essentially unchanged. It was popularised in the 1960s with the release of Letraset sheets containing Lorem Ipsum passages, and more recently with desktop publishing software like Aldus PageMaker including versions of Lorem Ipsum.\n",
      "\n",
      "\n",
      "\n",
      "Why do we use it?\n",
      "\n",
      "It is a long established fact that a reader will be distracted by the readable content of a page when looking at its layout. The point of using Lorem Ipsum is that it has a more-or-less normal distribution of letters, as opposed to using 'Content here, content here', making it look like readable English. Many desktop publishing packages and web page editors now use Lorem Ipsum as their default model text, and a search for 'lorem ipsum' will uncover many web sites still in their infancy. Various versions have evolved over the years, sometimes by accident, sometimes on purpose (injected humour and the like).\n",
      "\n"
     ]
    }
   ],
   "source": [
    "file_obj =  open('W:/Data_Science_topics/Coding_Ninjas_Data_science_and_machine_learning/10_Working_with_files/topics.txt' , 'r')\n",
    "fie_data = file_obj.readline()\n",
    "print(fie_data)\n",
    "print(file_obj.readline())\n",
    "print(file_obj.readline())\n",
    "print(file_obj.readline())\n",
    "print(file_obj.readline())"
   ]
  },
  {
   "cell_type": "code",
   "execution_count": null,
   "metadata": {},
   "outputs": [],
   "source": []
  }
 ],
 "metadata": {
  "kernelspec": {
   "display_name": "Python 3",
   "language": "python",
   "name": "python3"
  },
  "language_info": {
   "codemirror_mode": {
    "name": "ipython",
    "version": 3
   },
   "file_extension": ".py",
   "mimetype": "text/x-python",
   "name": "python",
   "nbconvert_exporter": "python",
   "pygments_lexer": "ipython3",
   "version": "3.8.3"
  }
 },
 "nbformat": 4,
 "nbformat_minor": 4
}
