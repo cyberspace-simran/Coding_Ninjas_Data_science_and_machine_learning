{
 "cells": [
  {
   "cell_type": "code",
   "execution_count": 8,
   "metadata": {
    "scrolled": true
   },
   "outputs": [
    {
     "name": "stdout",
     "output_type": "stream",
     "text": [
      "Sequoia Capital 64\n",
      "Accel Partners 53\n",
      "Kalaari Capital 44\n",
      "SAIF Partners 41\n",
      "Indian Angel Network 40\n"
     ]
    },
    {
     "ename": "TypeError",
     "evalue": "'int' object is not iterable",
     "output_type": "error",
     "traceback": [
      "\u001b[1;31m---------------------------------------------------------------------------\u001b[0m",
      "\u001b[1;31mTypeError\u001b[0m                                 Traceback (most recent call last)",
      "\u001b[1;32m<ipython-input-8-2885bec237b2>\u001b[0m in \u001b[0;36m<module>\u001b[1;34m\u001b[0m\n\u001b[0;32m     26\u001b[0m     \u001b[0mprint\u001b[0m\u001b[1;33m(\u001b[0m\u001b[0mname\u001b[0m\u001b[1;33m,\u001b[0m\u001b[0mfrequency\u001b[0m\u001b[1;33m)\u001b[0m\u001b[1;33m\u001b[0m\u001b[1;33m\u001b[0m\u001b[0m\n\u001b[0;32m     27\u001b[0m \u001b[1;33m\u001b[0m\u001b[0m\n\u001b[1;32m---> 28\u001b[1;33m \u001b[1;32mfor\u001b[0m \u001b[0mj\u001b[0m \u001b[1;32min\u001b[0m \u001b[0mfrequency\u001b[0m\u001b[1;33m:\u001b[0m\u001b[1;33m\u001b[0m\u001b[1;33m\u001b[0m\u001b[0m\n\u001b[0m\u001b[0;32m     29\u001b[0m     \u001b[0mprint\u001b[0m\u001b[1;33m(\u001b[0m\u001b[0mj\u001b[0m\u001b[1;33m)\u001b[0m\u001b[1;33m\u001b[0m\u001b[1;33m\u001b[0m\u001b[0m\n\u001b[0;32m     30\u001b[0m     \u001b[0mj\u001b[0m \u001b[1;33m+=\u001b[0m\u001b[1;36m1\u001b[0m\u001b[1;33m\u001b[0m\u001b[1;33m\u001b[0m\u001b[0m\n",
      "\u001b[1;31mTypeError\u001b[0m: 'int' object is not iterable"
     ]
    }
   ],
   "source": [
    "import pandas as pd\n",
    "import matplotlib.pyplot as plt\n",
    "f_startup = pd.read_csv(\"startup_funding.csv\", encoding='utf8')\n",
    "#reading data from startup_funding.csv file\n",
    "\n",
    "df = f_startup.copy() \n",
    "#creating a copy of f_startup dataframe so that we can work on the dataset\n",
    "\n",
    "df.dropna(subset = [\"InvestorsName\"],inplace = True)  \n",
    "#removing row's having NAN in Investors name column\n",
    "\n",
    "dict_to_find_no_of_investor = {}  \n",
    "for i in df[\"InvestorsName\"].values:  \n",
    "    #traversing through the investor names.......to see the number of times the names appeared\n",
    "    \n",
    "    if \",\" in i: \n",
    "        #if it contains multiple names ...........then spliting it ..and traversing through each names separately\n",
    "        for j in i.strip().split(','):\n",
    "            dict_to_find_no_of_investor[j.strip()] = dict_to_find_no_of_investor.get(j.strip(),0) + 1\n",
    "    else:\n",
    "        dict_to_find_no_of_investor[i.strip()] = dict_to_find_no_of_investor.get(i.strip(),0) + 1\n",
    "        \n",
    "list=[(frequency,name) for name,frequency in dict_to_find_no_of_investor.items()]\n",
    "reversed_list=sorted(list,reverse=True)[:5]\n",
    "for frequency,name in reversed_list:\n",
    "    print(name,frequency)\n",
    "list1 = []\n",
    "for j in frequency:\n",
    "    list1.append\n",
    "    print(j)\n",
    "    j +=1\n",
    "    \n",
    "    \n",
    "    \n",
    "    \n",
    "# plt.bar(,width = 0.5,color = \"red\" , edgecolor = \"yellow\") \n",
    "# #ploting the bar graph....cities vs no of fundings..\n",
    "# plt.xlabel(\"investor\") \n",
    "# #labeling x-axis\n",
    "# plt.ylabel(\"No of counts\")\n",
    "# #labeling y_axis\n",
    "# plt.xticks(rotation = 50)\n",
    "# #rotating names in x-axis so that we can see the labels properly\n",
    "# plt.show()"
   ]
  },
  {
   "cell_type": "code",
   "execution_count": null,
   "metadata": {},
   "outputs": [],
   "source": []
  }
 ],
 "metadata": {
  "kernelspec": {
   "display_name": "Python 3",
   "language": "python",
   "name": "python3"
  },
  "language_info": {
   "codemirror_mode": {
    "name": "ipython",
    "version": 3
   },
   "file_extension": ".py",
   "mimetype": "text/x-python",
   "name": "python",
   "nbconvert_exporter": "python",
   "pygments_lexer": "ipython3",
   "version": "3.8.5"
  }
 },
 "nbformat": 4,
 "nbformat_minor": 4
}
