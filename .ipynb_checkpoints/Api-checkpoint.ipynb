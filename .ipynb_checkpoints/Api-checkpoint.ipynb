{
 "cells": [
  {
   "cell_type": "code",
   "execution_count": 1,
   "metadata": {},
   "outputs": [
    {
     "name": "stdout",
     "output_type": "stream",
     "text": [
      "{\"message\":{\"affenpinscher\":[],\"african\":[],\"airedale\":[],\"akita\":[],\"appenzeller\":[],\"australian\":[\"shepherd\"],\"basenji\":[],\"beagle\":[],\"bluetick\":[],\"borzoi\":[],\"bouvier\":[],\"boxer\":[],\"brabancon\":[],\"briard\":[],\"buhund\":[\"norwegian\"],\"bulldog\":[\"boston\",\"english\",\"french\"],\"bullterrier\":[\"staffordshire\"],\"cairn\":[],\"cattledog\":[\"australian\"],\"chihuahua\":[],\"chow\":[],\"clumber\":[],\"cockapoo\":[],\"collie\":[\"border\"],\"coonhound\":[],\"corgi\":[\"cardigan\"],\"cotondetulear\":[],\"dachshund\":[],\"dalmatian\":[],\"dane\":[\"great\"],\"deerhound\":[\"scottish\"],\"dhole\":[],\"dingo\":[],\"doberman\":[],\"elkhound\":[\"norwegian\"],\"entlebucher\":[],\"eskimo\":[],\"finnish\":[\"lapphund\"],\"frise\":[\"bichon\"],\"germanshepherd\":[],\"greyhound\":[\"italian\"],\"groenendael\":[],\"havanese\":[],\"hound\":[\"afghan\",\"basset\",\"blood\",\"english\",\"ibizan\",\"plott\",\"walker\"],\"husky\":[],\"keeshond\":[],\"kelpie\":[],\"komondor\":[],\"kuvasz\":[],\"labrador\":[],\"leonberg\":[],\"lhasa\":[],\"malamute\":[],\"malinois\":[],\"maltese\":[],\"mastiff\":[\"bull\",\"english\",\"tibetan\"],\"mexicanhairless\":[],\"mix\":[],\"mountain\":[\"bernese\",\"swiss\"],\"newfoundland\":[],\"otterhound\":[],\"ovcharka\":[\"caucasian\"],\"papillon\":[],\"pekinese\":[],\"pembroke\":[],\"pinscher\":[\"miniature\"],\"pitbull\":[],\"pointer\":[\"german\",\"germanlonghair\"],\"pomeranian\":[],\"poodle\":[\"miniature\",\"standard\",\"toy\"],\"pug\":[],\"puggle\":[],\"pyrenees\":[],\"redbone\":[],\"retriever\":[\"chesapeake\",\"curly\",\"flatcoated\",\"golden\"],\"ridgeback\":[\"rhodesian\"],\"rottweiler\":[],\"saluki\":[],\"samoyed\":[],\"schipperke\":[],\"schnauzer\":[\"giant\",\"miniature\"],\"setter\":[\"english\",\"gordon\",\"irish\"],\"sheepdog\":[\"english\",\"shetland\"],\"shiba\":[],\"shihtzu\":[],\"spaniel\":[\"blenheim\",\"brittany\",\"cocker\",\"irish\",\"japanese\",\"sussex\",\"welsh\"],\"springer\":[\"english\"],\"stbernard\":[],\"terrier\":[\"american\",\"australian\",\"bedlington\",\"border\",\"dandie\",\"fox\",\"irish\",\"kerryblue\",\"lakeland\",\"norfolk\",\"norwich\",\"patterdale\",\"russell\",\"scottish\",\"sealyham\",\"silky\",\"tibetan\",\"toy\",\"westhighland\",\"wheaten\",\"yorkshire\"],\"vizsla\":[],\"waterdog\":[\"spanish\"],\"weimaraner\":[],\"whippet\":[],\"wolfhound\":[\"irish\"]},\"status\":\"success\"}\n",
      "https://dog.ceo/api/breeds/list/all\n"
     ]
    }
   ],
   "source": [
    "import requests\n",
    "response = requests.get('https://dog.ceo/api/breeds/list/all')\n",
    "print(response.text)\n",
    "print(response.url)"
   ]
  },
  {
   "cell_type": "code",
   "execution_count": 4,
   "metadata": {},
   "outputs": [
    {
     "name": "stdout",
     "output_type": "stream",
     "text": [
      "<class 'dict'>\n",
      "{'message': {'affenpinscher': [], 'african': [], 'airedale': [], 'akita': [], 'appenzeller': [], 'australian': ['shepherd'], 'basenji': [], 'beagle': [], 'bluetick': [], 'borzoi': [], 'bouvier': [], 'boxer': [], 'brabancon': [], 'briard': [], 'buhund': ['norwegian'], 'bulldog': ['boston', 'english', 'french'], 'bullterrier': ['staffordshire'], 'cairn': [], 'cattledog': ['australian'], 'chihuahua': [], 'chow': [], 'clumber': [], 'cockapoo': [], 'collie': ['border'], 'coonhound': [], 'corgi': ['cardigan'], 'cotondetulear': [], 'dachshund': [], 'dalmatian': [], 'dane': ['great'], 'deerhound': ['scottish'], 'dhole': [], 'dingo': [], 'doberman': [], 'elkhound': ['norwegian'], 'entlebucher': [], 'eskimo': [], 'finnish': ['lapphund'], 'frise': ['bichon'], 'germanshepherd': [], 'greyhound': ['italian'], 'groenendael': [], 'havanese': [], 'hound': ['afghan', 'basset', 'blood', 'english', 'ibizan', 'plott', 'walker'], 'husky': [], 'keeshond': [], 'kelpie': [], 'komondor': [], 'kuvasz': [], 'labrador': [], 'leonberg': [], 'lhasa': [], 'malamute': [], 'malinois': [], 'maltese': [], 'mastiff': ['bull', 'english', 'tibetan'], 'mexicanhairless': [], 'mix': [], 'mountain': ['bernese', 'swiss'], 'newfoundland': [], 'otterhound': [], 'ovcharka': ['caucasian'], 'papillon': [], 'pekinese': [], 'pembroke': [], 'pinscher': ['miniature'], 'pitbull': [], 'pointer': ['german', 'germanlonghair'], 'pomeranian': [], 'poodle': ['miniature', 'standard', 'toy'], 'pug': [], 'puggle': [], 'pyrenees': [], 'redbone': [], 'retriever': ['chesapeake', 'curly', 'flatcoated', 'golden'], 'ridgeback': ['rhodesian'], 'rottweiler': [], 'saluki': [], 'samoyed': [], 'schipperke': [], 'schnauzer': ['giant', 'miniature'], 'setter': ['english', 'gordon', 'irish'], 'sheepdog': ['english', 'shetland'], 'shiba': [], 'shihtzu': [], 'spaniel': ['blenheim', 'brittany', 'cocker', 'irish', 'japanese', 'sussex', 'welsh'], 'springer': ['english'], 'stbernard': [], 'terrier': ['american', 'australian', 'bedlington', 'border', 'dandie', 'fox', 'irish', 'kerryblue', 'lakeland', 'norfolk', 'norwich', 'patterdale', 'russell', 'scottish', 'sealyham', 'silky', 'tibetan', 'toy', 'westhighland', 'wheaten', 'yorkshire'], 'vizsla': [], 'waterdog': ['spanish'], 'weimaraner': [], 'whippet': [], 'wolfhound': ['irish']}, 'status': 'success'}\n"
     ]
    }
   ],
   "source": [
    "import json\n",
    "data = json.loads(response.text)\n",
    "print(type(data))\n",
    "print((data))"
   ]
  },
  {
   "cell_type": "code",
   "execution_count": 6,
   "metadata": {},
   "outputs": [
    {
     "name": "stdout",
     "output_type": "stream",
     "text": [
      "affenpinscher : 0\n",
      "african : 0\n",
      "airedale : 0\n",
      "akita : 0\n",
      "appenzeller : 0\n",
      "australian : 1\n",
      "basenji : 0\n",
      "beagle : 0\n",
      "bluetick : 0\n",
      "borzoi : 0\n",
      "bouvier : 0\n",
      "boxer : 0\n",
      "brabancon : 0\n",
      "briard : 0\n",
      "buhund : 1\n",
      "bulldog : 3\n",
      "bullterrier : 1\n",
      "cairn : 0\n",
      "cattledog : 1\n",
      "chihuahua : 0\n",
      "chow : 0\n",
      "clumber : 0\n",
      "cockapoo : 0\n",
      "collie : 1\n",
      "coonhound : 0\n",
      "corgi : 1\n",
      "cotondetulear : 0\n",
      "dachshund : 0\n",
      "dalmatian : 0\n",
      "dane : 1\n",
      "deerhound : 1\n",
      "dhole : 0\n",
      "dingo : 0\n",
      "doberman : 0\n",
      "elkhound : 1\n",
      "entlebucher : 0\n",
      "eskimo : 0\n",
      "finnish : 1\n",
      "frise : 1\n",
      "germanshepherd : 0\n",
      "greyhound : 1\n",
      "groenendael : 0\n",
      "havanese : 0\n",
      "hound : 7\n",
      "husky : 0\n",
      "keeshond : 0\n",
      "kelpie : 0\n",
      "komondor : 0\n",
      "kuvasz : 0\n",
      "labrador : 0\n",
      "leonberg : 0\n",
      "lhasa : 0\n",
      "malamute : 0\n",
      "malinois : 0\n",
      "maltese : 0\n",
      "mastiff : 3\n",
      "mexicanhairless : 0\n",
      "mix : 0\n",
      "mountain : 2\n",
      "newfoundland : 0\n",
      "otterhound : 0\n",
      "ovcharka : 1\n",
      "papillon : 0\n",
      "pekinese : 0\n",
      "pembroke : 0\n",
      "pinscher : 1\n",
      "pitbull : 0\n",
      "pointer : 2\n",
      "pomeranian : 0\n",
      "poodle : 3\n",
      "pug : 0\n",
      "puggle : 0\n",
      "pyrenees : 0\n",
      "redbone : 0\n",
      "retriever : 4\n",
      "ridgeback : 1\n",
      "rottweiler : 0\n",
      "saluki : 0\n",
      "samoyed : 0\n",
      "schipperke : 0\n",
      "schnauzer : 2\n",
      "setter : 3\n",
      "sheepdog : 2\n",
      "shiba : 0\n",
      "shihtzu : 0\n",
      "spaniel : 7\n",
      "springer : 1\n",
      "stbernard : 0\n",
      "terrier : 21\n",
      "vizsla : 0\n",
      "waterdog : 1\n",
      "weimaraner : 0\n",
      "whippet : 0\n",
      "wolfhound : 1\n"
     ]
    }
   ],
   "source": [
    "for key,val in data ['message'].items():\n",
    "    print(key, \":\", len(val) )"
   ]
  },
  {
   "cell_type": "code",
   "execution_count": 8,
   "metadata": {},
   "outputs": [
    {
     "name": "stdout",
     "output_type": "stream",
     "text": [
      "afghan\n",
      "basset\n",
      "blood\n",
      "english\n",
      "ibizan\n",
      "plott\n",
      "walker\n"
     ]
    }
   ],
   "source": [
    "for i in data ['message']['hound']:\n",
    "    print(i)"
   ]
  },
  {
   "cell_type": "code",
   "execution_count": 11,
   "metadata": {},
   "outputs": [
    {
     "name": "stdout",
     "output_type": "stream",
     "text": [
      "3\n"
     ]
    }
   ],
   "source": [
    "import requests\n",
    "response = requests.get('https://dog.ceo/api/breeds/list/all')\n",
    "# print(response.text)\n",
    "# print(response.url)\n",
    "import json\n",
    "data = json.loads(response.text)\n",
    "# print(type(data))\n",
    "# print((data))\n",
    "# for key,val in data ['message'].items():\n",
    "#     print(key, \":\", len(val) )\n",
    "print(len(data['message']['poodle']))"
   ]
  },
  {
   "cell_type": "code",
   "execution_count": 16,
   "metadata": {},
   "outputs": [
    {
     "name": "stdout",
     "output_type": "stream",
     "text": [
      "Machine Learning\n",
      "Competitive Programmer\n",
      "Front End (React)\n",
      "C++ & Data Structures\n",
      "Web Dev (Full Stack)\n",
      "Java & Data Structures\n",
      "Android Developer\n",
      "Python & Web Dev (MERN)\n",
      "Data Science\n",
      "Interview Preperation\n",
      "C++ & Web Dev (Node.js)\n",
      "Competitive Programming\n",
      "Android (Kotlin)\n",
      "Data Scientist\n",
      "Python & Data Structures\n",
      "Machine Learning\n",
      "Aptitude Preparation\n"
     ]
    }
   ],
   "source": [
    "import requests\n",
    "response = requests.get('https://api.codingninjas.com/api/v3/courses')\n",
    "# print(response.text)\n",
    "# print(response.url)\n",
    "import json\n",
    "data1 = json.loads(response.text)\n",
    "# print(type(data))\n",
    "# print((data))\n",
    "allc = data1['data']['courses']\n",
    "# print(type(allc))\n",
    "for i in allc:\n",
    "    print(i['title'])\n",
    "\n"
   ]
  },
  {
   "cell_type": "code",
   "execution_count": 31,
   "metadata": {},
   "outputs": [
    {
     "name": "stdout",
     "output_type": "stream",
     "text": [
      "Presenting NINJA HIRE 2.0, a series of 3 tests for all Non-Final (2nd & 3rd) Year Students. Once you ace all the 3 tests, you’ll be one of the 10 lucky ones who’ll get an internship interview opportunity, post which you’ll get to work at Coding Ninjas, where'll you be working alongside some of the brightest and talented minds!\n",
      "Run through the wave of codes smoothly and showcase your coding skills to stay ahead amongst your peers. Just for you and your college, Coding Ninjas brings to you a PAN-India Online test series 'Ninja Wave', that'll tease your brains! The test would consist of Coding as well as Aptitude MCQs.\n",
      "Coding Ninjas is bringing an exclusive webinar with your very own alumnus Shubham Sharma ,cracked a full-time job offer from Amazon\n",
      "Join us Live for a Workshop on \"Recursion for Tech Interviews\" by Navdeep Sandhu on 27th November at 8 PM\n",
      "What will you learn in this webinar?\r\n",
      "\r\n",
      "Interview Preparation\r\n",
      "Data Structures\r\n",
      "Competitive Programming\r\n",
      "Career Guidance\n",
      " Join us live for a webinar on \"How to Build a Strong Career in Technology\" by Ankush Singla on 25th Nov at 2:30 PM\n",
      "Coding Ninjas in collaboration with Technical Society, MNIT Jaipur brings to you a Online Coding test '', that'll tease your brains! The test would consist of Coding as well as Aptitude MCQs.\n",
      "Bharati Vidyapeeth's Institute of Computer Applications and Management in association with Coding Ninjas presents Online Programming on this Education Day\n",
      "Register for this webinar and know how you can future-proof your programming career!\r\n",
      "\r\n",
      "\n",
      "\r\n",
      "Reward: Prizes for top-3 participants  from the college. \r\n",
      " \n",
      "Run through the wave of codes smoothly and showcase your coding skills to stay ahead amongst your peers. Just for you and your college, Coding Ninjas brings to you a PAN-India Online test series 'Ninja Wave', that'll tease your brains! The test would consist of Coding as well as Aptitude MCQs.\n",
      "Run through the wave of codes smoothly and showcase your coding skills to stay ahead amongst your peers. Just for you and your college, Coding Ninjas brings to you a PAN-India Online test series 'Ninja Wave', that'll tease your brains! The test would consist of Coding as well as Aptitude MCQs.\n",
      "Let your curiosity know no boundaries as you put your programming skills to the test. Just for you exclusively, we're bringing \"Week of Curious Codes\", an Online Coding Test series, occurring on Monday, Wednesday and Friday, in the week of 2nd November 2020, where your college will be one of the 7 colleges, that'll compete amongst themselves.\n",
      "Join us live for a bootcamp on Cricket Score Prediction By Harshit Tyagi on 31st October at 7 PM.\n",
      "Run through the wave of codes smoothly and showcase your coding skills to stay ahead amongst your peers. Just for you and your college, Coding Ninjas brings to you a PAN-India Online test series 'Ninja Wave', that'll tease your brains! The test would consist of Coding as well as Aptitude MCQs.\n",
      "Run through the wave of codes smoothly and showcase your coding skills to stay ahead amongst your peers. Just for you and your college, Coding Ninjas brings to you a PAN-India Online test series 'Ninja Wave', that'll tease your brains! The test would consist of Coding as well as Aptitude MCQs.\n",
      "Just for you and your college, Coding Ninjas in collaboration with D_Coder DTU is bringing an online Aptitude event - \"Aptitalent\" on 30th October. \n",
      "\r\n",
      "Run through the wave of codes smoothly and showcase your coding skills to stay ahead amongst your peers. Just for you and your college, Coding Ninjas brings to you a PAN-India Online test series 'Ninja Wave', that'll tease your brains! The test would consist of Coding as well as Aptitude MCQs.\r\n",
      "\n",
      "Run through the wave of codes smoothly and showcase your coding skills to stay ahead amongst your peers. Just for you and your college, Coding Ninjas brings to you a PAN-India Online test series 'Ninja Wave', that'll tease your brains! The test would consist of Coding as well as Aptitude MCQs.\n",
      "Run through the wave of codes smoothly and showcase your coding skills to stay ahead amongst your peers. Just for you and your college, Coding Ninjas brings to you a PAN-India Online test series 'Ninja Wave', that'll tease your brains! The test would consist of Coding as well as Aptitude MCQs.\n"
     ]
    }
   ],
   "source": [
    "import requests\n",
    "response = requests.get('https://api.codingninjas.com/api/v3/events?event_category=ALL_EVENTS&event_sub_category=All%20Time%20Favorites&tag_list=&offset=0&_ga=2.55305070.492113287.1606223310-221345004.1603656955')\n",
    "# print(response.text)\n",
    "# print(response.url)\n",
    "import json\n",
    "data1 = json.loads(response.text)\n",
    "# print(type(data))\n",
    "# print((data))\n",
    "allc = data1['data']['events']\n",
    "# print(type(allc))\n",
    "for i in allc:\n",
    "    print(i['short_desc'])\n",
    "\n"
   ]
  },
  {
   "cell_type": "code",
   "execution_count": null,
   "metadata": {},
   "outputs": [],
   "source": []
  }
 ],
 "metadata": {
  "kernelspec": {
   "display_name": "Python 3",
   "language": "python",
   "name": "python3"
  },
  "language_info": {
   "codemirror_mode": {
    "name": "ipython",
    "version": 3
   },
   "file_extension": ".py",
   "mimetype": "text/x-python",
   "name": "python",
   "nbconvert_exporter": "python",
   "pygments_lexer": "ipython3",
   "version": "3.8.5"
  }
 },
 "nbformat": 4,
 "nbformat_minor": 4
}
