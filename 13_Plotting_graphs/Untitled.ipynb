{
 "cells": [
  {
   "cell_type": "code",
   "execution_count": 2,
   "metadata": {},
   "outputs": [
    {
     "name": "stdout",
     "output_type": "stream",
     "text": [
      "2018 3493\n"
     ]
    }
   ],
   "source": [
    "import csv\n",
    "\n",
    "\n",
    "job_year = '2018'\n",
    "lines = 0\n",
    "opening = 0\n",
    "with open('amazon_jobs_dataset.csv',\"r\",encoding='utf-8') as csv_file:\n",
    "    job_reader = csv.reader(csv_file)\n",
    "    \n",
    "    next(job_reader)\n",
    "    \n",
    "    for row in job_reader :\n",
    "        if job_year in row[3]:\n",
    "            opening +=1\n",
    "         \n",
    "        lines+=1\n",
    "        \n",
    "#print(opening)\n",
    "        \n",
    "#print(opening1)\n",
    "        \n",
    "#print(opening2)\n",
    "\n",
    "\n",
    "print(job_year, lines)"
   ]
  },
  {
   "cell_type": "code",
   "execution_count": 3,
   "metadata": {},
   "outputs": [
    {
     "ename": "NameError",
     "evalue": "name 'arr' is not defined",
     "output_type": "error",
     "traceback": [
      "\u001b[1;31m---------------------------------------------------------------------------\u001b[0m",
      "\u001b[1;31mNameError\u001b[0m                                 Traceback (most recent call last)",
      "\u001b[1;32m<ipython-input-3-2d70b4628aaa>\u001b[0m in \u001b[0;36m<module>\u001b[1;34m\u001b[0m\n\u001b[0;32m     24\u001b[0m         \u001b[1;32mreturn\u001b[0m \u001b[0mdictionary\u001b[0m\u001b[1;33m\u001b[0m\u001b[1;33m\u001b[0m\u001b[0m\n\u001b[0;32m     25\u001b[0m \u001b[1;33m\u001b[0m\u001b[0m\n\u001b[1;32m---> 26\u001b[1;33m \u001b[0mgetTheJobYearList\u001b[0m\u001b[1;33m(\u001b[0m\u001b[0marr\u001b[0m\u001b[1;33m,\u001b[0m \u001b[0mcreateDictionary\u001b[0m\u001b[1;33m)\u001b[0m\u001b[1;33m\u001b[0m\u001b[1;33m\u001b[0m\u001b[0m\n\u001b[0m",
      "\u001b[1;31mNameError\u001b[0m: name 'arr' is not defined"
     ]
    }
   ],
   "source": [
    "import csv\n",
    "posting_date=[]\n",
    "path='amazon_jobs_dataset.csv'\n",
    "with open(path,'r',encoding='utf-8') as csvFile:\n",
    "    reader=csv.DictReader(csvFile)\n",
    "    for row in reader:\n",
    "        posting_date.append(row['Posting_date'])\n",
    "\n",
    "\n",
    "\n",
    "\n",
    "def getTheJobYearList(arr,year):\n",
    "    year_list=[]\n",
    "    for i in arr:\n",
    "        if i.split(' ')[-1]==year:\n",
    "            year_list.append(i)\n",
    "            return year_list\n",
    "        \n",
    "        \n",
    "def createDictionary(arr):\n",
    "    dictionary={i:0 for i in set(arr)}\n",
    "    for i in arr:\n",
    "        dictionary[i]=dictionary.get(i)+1\n",
    "        return dictionary\n",
    "    \n",
    "getTheJobYearList( createDictionary)"
   ]
  },
  {
   "cell_type": "code",
   "execution_count": 5,
   "metadata": {},
   "outputs": [],
   "source": [
    "import csv\n",
    "posting_date=[]\n",
    "path='amazon_jobs_dataset.csv'\n",
    "with open(path,'r',encoding='utf-8') as csvFile:\n",
    "    reader=csv.DictReader(csvFile)\n",
    "    for row in reader:\n",
    "        posting_date.append(row['Posting_date'])\n",
    "\n",
    "\n",
    "\n",
    "\n",
    "def getTheJobYearList(arr):\n",
    "    year_list=[]\n",
    "    for i in arr:\n",
    "        year_list.append(i.split()[-1])\n",
    "    return year_list\n",
    "        \n",
    "        \n",
    "def createDictionary(arr):\n",
    "    dictionary={i:0 for i in set(arr)}\n",
    "    for i in arr:\n",
    "        dictionary[i]=dictionary.get(i)+1\n",
    "    return dictionary\n",
    "    \n",
    "arr = getTheJobYearList(posting_date)\n",
    "arr_dict = createDictionary(arr)\n"
   ]
  },
  {
   "cell_type": "code",
   "execution_count": 6,
   "metadata": {},
   "outputs": [
    {
     "ename": "TypeError",
     "evalue": "unsupported operand type(s) for +: 'NoneType' and 'int'",
     "output_type": "error",
     "traceback": [
      "\u001b[1;31m---------------------------------------------------------------------------\u001b[0m",
      "\u001b[1;31mTypeError\u001b[0m                                 Traceback (most recent call last)",
      "\u001b[1;32m<ipython-input-6-5333cfb82193>\u001b[0m in \u001b[0;36m<module>\u001b[1;34m\u001b[0m\n\u001b[0;32m     24\u001b[0m \u001b[1;33m\u001b[0m\u001b[0m\n\u001b[0;32m     25\u001b[0m \u001b[0marr\u001b[0m \u001b[1;33m=\u001b[0m \u001b[0mgetTheJobYearList\u001b[0m\u001b[1;33m(\u001b[0m\u001b[0mposting_date\u001b[0m\u001b[1;33m)\u001b[0m\u001b[1;33m\u001b[0m\u001b[1;33m\u001b[0m\u001b[0m\n\u001b[1;32m---> 26\u001b[1;33m \u001b[0marr_dict\u001b[0m \u001b[1;33m=\u001b[0m \u001b[0mcreateDictionary\u001b[0m\u001b[1;33m(\u001b[0m\u001b[0marr\u001b[0m\u001b[1;33m)\u001b[0m\u001b[1;33m\u001b[0m\u001b[1;33m\u001b[0m\u001b[0m\n\u001b[0m\u001b[0;32m     27\u001b[0m \u001b[0mx\u001b[0m \u001b[1;33m=\u001b[0m \u001b[1;33m[\u001b[0m\u001b[1;33m]\u001b[0m\u001b[1;33m\u001b[0m\u001b[1;33m\u001b[0m\u001b[0m\n\u001b[0;32m     28\u001b[0m \u001b[0my\u001b[0m \u001b[1;33m=\u001b[0m \u001b[1;33m[\u001b[0m\u001b[1;33m]\u001b[0m\u001b[1;33m\u001b[0m\u001b[1;33m\u001b[0m\u001b[0m\n",
      "\u001b[1;32m<ipython-input-6-5333cfb82193>\u001b[0m in \u001b[0;36mcreateDictionary\u001b[1;34m(arr)\u001b[0m\n\u001b[0;32m     20\u001b[0m     \u001b[0mdictionary\u001b[0m\u001b[1;33m=\u001b[0m\u001b[1;33m{\u001b[0m\u001b[0mint\u001b[0m\u001b[1;33m(\u001b[0m\u001b[0mi\u001b[0m\u001b[1;33m)\u001b[0m\u001b[1;33m:\u001b[0m\u001b[1;36m0\u001b[0m \u001b[1;32mfor\u001b[0m \u001b[0mi\u001b[0m \u001b[1;32min\u001b[0m \u001b[0mset\u001b[0m\u001b[1;33m(\u001b[0m\u001b[0marr\u001b[0m\u001b[1;33m)\u001b[0m\u001b[1;33m}\u001b[0m\u001b[1;33m\u001b[0m\u001b[1;33m\u001b[0m\u001b[0m\n\u001b[0;32m     21\u001b[0m     \u001b[1;32mfor\u001b[0m \u001b[0mi\u001b[0m \u001b[1;32min\u001b[0m \u001b[0marr\u001b[0m\u001b[1;33m:\u001b[0m\u001b[1;33m\u001b[0m\u001b[1;33m\u001b[0m\u001b[0m\n\u001b[1;32m---> 22\u001b[1;33m         \u001b[0mdictionary\u001b[0m\u001b[1;33m[\u001b[0m\u001b[0mi\u001b[0m\u001b[1;33m]\u001b[0m\u001b[1;33m=\u001b[0m\u001b[0mdictionary\u001b[0m\u001b[1;33m.\u001b[0m\u001b[0mget\u001b[0m\u001b[1;33m(\u001b[0m\u001b[0mi\u001b[0m\u001b[1;33m)\u001b[0m\u001b[1;33m+\u001b[0m\u001b[1;36m1\u001b[0m\u001b[1;33m\u001b[0m\u001b[1;33m\u001b[0m\u001b[0m\n\u001b[0m\u001b[0;32m     23\u001b[0m     \u001b[1;32mreturn\u001b[0m \u001b[0mdictionary\u001b[0m\u001b[1;33m\u001b[0m\u001b[1;33m\u001b[0m\u001b[0m\n\u001b[0;32m     24\u001b[0m \u001b[1;33m\u001b[0m\u001b[0m\n",
      "\u001b[1;31mTypeError\u001b[0m: unsupported operand type(s) for +: 'NoneType' and 'int'"
     ]
    }
   ],
   "source": [
    "import csv\n",
    "posting_date=[]\n",
    "path='amazon_jobs_dataset.csv'\n",
    "with open(path,'r',encoding='utf-8') as csvFile:\n",
    "    reader=csv.DictReader(csvFile)\n",
    "    for row in reader:\n",
    "        posting_date.append(row['Posting_date'])\n",
    "\n",
    "\n",
    "\n",
    "\n",
    "def getTheJobYearList(arr):\n",
    "    year_list=[]\n",
    "    for i in arr:\n",
    "        year_list.append(i.split()[-1])\n",
    "    return year_list\n",
    "        \n",
    "        \n",
    "def createDictionary(arr):\n",
    "    dictionary={int(i):0 for i in set(arr)}\n",
    "    for i in arr:\n",
    "        dictionary[i]=dictionary.get(i)+1\n",
    "    return dictionary\n",
    "    \n",
    "arr = getTheJobYearList(posting_date)\n",
    "arr_dict = createDictionary(arr)\n",
    "x = []\n",
    "y = []\n",
    "for i in range(2011, 2019):\n",
    "    x.append(i)\n",
    "    y.append(arr_dict[i])"
   ]
  },
  {
   "cell_type": "code",
   "execution_count": 21,
   "metadata": {},
   "outputs": [
    {
     "name": "stdout",
     "output_type": "stream",
     "text": [
      "2011\t2\n",
      "2012\t7\n",
      "2013\t3\n",
      "2014\t5\n",
      "2015\t29\n",
      "2016\t123\n",
      "2017\t1614\n",
      "2018\t1710\n"
     ]
    },
    {
     "data": {
      "image/png": "[encoded data removed]",
      "text/plain": [
       "<Figure size 432x288 with 1 Axes>"
      ]
     },
     "metadata": {
      "needs_background": "light"
     },
     "output_type": "display_data"
    }
   ],
   "source": [
    "import matplotlib.pyplot as plt\n",
    "import csv\n",
    "posting_date=[]\n",
    "path='amazon_jobs_dataset.csv'\n",
    "with open(path,'r',encoding='utf-8') as csvFile:\n",
    "    reader=csv.DictReader(csvFile)\n",
    "    for row in reader:\n",
    "        posting_date.append(row['Posting_date'])\n",
    "\n",
    "def getTheJobYearList(arr):\n",
    "    year_list=[]\n",
    "    for i in arr:\n",
    "        year_list.append(i.split()[-1])\n",
    "    return year_list\n",
    "        \n",
    "        \n",
    "def createDictionary(arr):\n",
    "    dictionary={i:0 for i in set(arr)}\n",
    "    for i in arr:\n",
    "        dictionary[i]=dictionary.get(i)+1\n",
    "    return dictionary\n",
    "    \n",
    "arr = getTheJobYearList(posting_date)\n",
    "arr_dict = createDictionary(arr)\n",
    "x = []\n",
    "y = []\n",
    "for i in range(2011, 2019):\n",
    "    x.append(i)\n",
    "    y.append(arr_dict[str(i)])\n",
    "\n",
    "plt.plot(x,y)\n",
    "res = \" \".join(\"{} {}\".format(x, y) for x, y in zip(x, y))\n",
    "res\n",
    "\n",
    "for i in range(len(x)):\n",
    "    print(str(x[i]) + '\\t'  + str(y[i]))"
   ]
  },
  {
   "cell_type": "code",
   "execution_count": 29,
   "metadata": {},
   "outputs": [
    {
     "data": {
      "image/png": "[encoded data removed]",
      "text/plain": [
       "<Figure size 432x288 with 1 Axes>"
      ]
     },
     "metadata": {
      "needs_background": "light"
     },
     "output_type": "display_data"
    },
    {
     "name": "stdout",
     "output_type": "stream",
     "text": [
      "April 58\n",
      "August 153\n",
      "December 393\n",
      "February 869\n",
      "January 961\n",
      "July 95\n",
      "June 99\n",
      "March 78\n",
      "May 108\n",
      "November 271\n",
      "October 243\n",
      "September 165\n"
     ]
    }
   ],
   "source": [
    "import matplotlib.pyplot as plt\n",
    "import numpy as np \n",
    "import pandas as pd \n",
    "import csv \n",
    "file_obj = open('amazon_jobs_dataset.csv',encoding='utf-8')\n",
    "data = pd.read_csv(file_obj)\n",
    "date = data['Posting_date']\n",
    "month = date.str.split(' ', expand = True)[0]\n",
    "freq = month.value_counts(ascending = True)\n",
    "freq.sort_index(inplace=True)\n",
    "x = freq.index\n",
    "y = freq\n",
    "plt.plot(x, y, marker = 'o')\n",
    "plt.title('Month vs No. of Job Openings')\n",
    "\n",
    "plt.xlabel('Month')\n",
    "plt.ylabel('No. of Job Openings')\n",
    "plt.show()\n",
    "for i in range(len(x)):\n",
    "    print(x[i],y[i])"
   ]
  },
  {
   "cell_type": "code",
   "execution_count": 25,
   "metadata": {},
   "outputs": [
    {
     "data": {
      "image/png": "[encoded data removed]",
      "text/plain": [
       "<Figure size 432x288 with 1 Axes>"
      ]
     },
     "metadata": {},
     "output_type": "display_data"
    },
    {
     "name": "stdout",
     "output_type": "stream",
     "text": [
      "HP 15.4\n",
      "Dell 33.1\n",
      "Lenovo 11.5\n",
      "Asus 13.1\n",
      "Apple 16.9\n",
      "Acer 10.0\n"
     ]
    }
   ],
   "source": [
    "import numpy as np\n",
    "import matplotlib.pyplot as plt\n",
    "company=['HP','Dell','Lenovo','Asus','Apple','Acer']\n",
    "sold=[20000,43000,15000,17000,22000,13000]\n",
    "company=np.array(company)\n",
    "sold=np.array(sold)\n",
    "plt.pie(sold,labels=company,autopct='%1.1f%%')\n",
    "plt.axis('equal')\n",
    "plt.show()\n",
    "x = np.true_divide(sold, sold.sum(axis=0, keepdims=True))*100\n",
    "for i in range(len(company)):\n",
    "    print(company[i],format(x[i],'.1f'))"
   ]
  },
  {
   "cell_type": "raw",
   "metadata": {},
   "source": [
    "df['day'] = df.index.day\n",
    "df['month'] = df.index.month\n",
    "df['year'] = df.index.year"
   ]
  },
  {
   "cell_type": "code",
   "execution_count": 41,
   "metadata": {},
   "outputs": [
    {
     "data": {
      "image/png": "[encoded data removed]",
      "text/plain": [
       "<Figure size 432x288 with 1 Axes>"
      ]
     },
     "metadata": {
      "needs_background": "light"
     },
     "output_type": "display_data"
    },
    {
     "name": "stdout",
     "output_type": "stream",
     "text": [
      "  1\n",
      "AE 1\n",
      "AU 10\n",
      "BR 11\n",
      "CA 156\n",
      "CN 24\n",
      "DE 38\n",
      "ES 14\n",
      "FR 3\n",
      "IE 50\n",
      "IL 32\n",
      "IN 141\n",
      "IT 4\n",
      "JO 2\n",
      "JP 6\n",
      "LU 6\n",
      "MX 2\n",
      "NL 2\n",
      "PL 24\n",
      "RO 17\n",
      "SG 4\n",
      "TW 5\n",
      "UK 56\n",
      "US 2867\n",
      "ZA 17\n"
     ]
    }
   ],
   "source": [
    "import matplotlib.pyplot as plt\n",
    "import numpy as np \n",
    "import pandas as pd \n",
    "import csv \n",
    "file_obj = open('amazon_jobs_dataset.csv',encoding='utf-8')\n",
    "data = pd.read_csv(file_obj)\n",
    "city = data['location']\n",
    "place = city.str.split(',', expand = True)[0]\n",
    "\n",
    "\n",
    "freq = place.value_counts(ascending = True)\n",
    "freq.sort_index(inplace=True)\n",
    "x = freq.index\n",
    "y = freq\n",
    "plt.plot(x, y, marker = 'o')\n",
    "plt.title('Month vs No. of Job Openings')\n",
    "\n",
    "plt.xlabel('Month')\n",
    "plt.ylabel('No. of Job Openings')\n",
    "plt.show()\n",
    "for i in range(len(x)):\n",
    "    print(x[i],y[i])\n",
    "\n"
   ]
  },
  {
   "cell_type": "code",
   "execution_count": 49,
   "metadata": {
    "collapsed": true
   },
   "outputs": [
    {
     "ename": "TypeError",
     "evalue": "'DictReader' object is not subscriptable",
     "output_type": "error",
     "traceback": [
      "\u001b[1;31m---------------------------------------------------------------------------\u001b[0m",
      "\u001b[1;31mTypeError\u001b[0m                                 Traceback (most recent call last)",
      "\u001b[1;32m<ipython-input-49-d2c44b71ad24>\u001b[0m in \u001b[0;36m<module>\u001b[1;34m\u001b[0m\n\u001b[0;32m      7\u001b[0m     \u001b[0mdata\u001b[0m \u001b[1;33m=\u001b[0m \u001b[0mcsv\u001b[0m\u001b[1;33m.\u001b[0m\u001b[0mDictReader\u001b[0m\u001b[1;33m(\u001b[0m\u001b[0mfile_obj\u001b[0m\u001b[1;33m,\u001b[0m \u001b[0mskipinitialspace\u001b[0m \u001b[1;33m=\u001b[0m \u001b[1;32mTrue\u001b[0m\u001b[1;33m,\u001b[0m  \u001b[0mdelimiter\u001b[0m\u001b[1;33m=\u001b[0m\u001b[1;34m\",\"\u001b[0m\u001b[1;33m)\u001b[0m\u001b[1;33m\u001b[0m\u001b[1;33m\u001b[0m\u001b[0m\n\u001b[0;32m      8\u001b[0m     \u001b[1;32mfor\u001b[0m \u001b[0mrow\u001b[0m \u001b[1;32min\u001b[0m \u001b[0mdata\u001b[0m\u001b[1;33m:\u001b[0m\u001b[1;33m\u001b[0m\u001b[1;33m\u001b[0m\u001b[0m\n\u001b[1;32m----> 9\u001b[1;33m         \u001b[0mcity\u001b[0m \u001b[1;33m=\u001b[0m \u001b[0mdata\u001b[0m\u001b[1;33m[\u001b[0m\u001b[1;34m'location'\u001b[0m\u001b[1;33m]\u001b[0m\u001b[1;33m.\u001b[0m\u001b[0mstrip\u001b[0m\u001b[1;33m(\u001b[0m\u001b[1;33m)\u001b[0m\u001b[1;33m\u001b[0m\u001b[1;33m\u001b[0m\u001b[0m\n\u001b[0m\u001b[0;32m     10\u001b[0m         \u001b[1;32mif\u001b[0m \u001b[0mcity\u001b[0m\u001b[1;33m[\u001b[0m\u001b[1;33m:\u001b[0m\u001b[1;36m2\u001b[0m\u001b[1;33m]\u001b[0m\u001b[1;33m==\u001b[0m\u001b[1;34m\"IN\"\u001b[0m\u001b[1;33m:\u001b[0m\u001b[1;33m\u001b[0m\u001b[1;33m\u001b[0m\u001b[0m\n\u001b[0;32m     11\u001b[0m             \u001b[0mIn_count\u001b[0m \u001b[1;33m+=\u001b[0m\u001b[1;36m1\u001b[0m\u001b[1;33m\u001b[0m\u001b[1;33m\u001b[0m\u001b[0m\n",
      "\u001b[1;31mTypeError\u001b[0m: 'DictReader' object is not subscriptable"
     ]
    }
   ],
   "source": [
    "import matplotlib.pyplot as plt\n",
    "import numpy as np \n",
    "import pandas as pd \n",
    "import csv \n",
    "In_count=0\n",
    "with open('amazon_jobs_dataset.csv',\"r\",encoding='utf-8') as file_obj:\n",
    "    data = csv.DictReader(file_obj, skipinitialspace = True,  delimiter=\",\")\n",
    "    for row in data:\n",
    "        city = data['location'].strip()\n",
    "        if city[:2]==\"IN\":\n",
    "            In_count +=1\n",
    "\n",
    "    print(In_count)\n",
    "        \n",
    "\n"
   ]
  },
  {
   "cell_type": "code",
   "execution_count": 62,
   "metadata": {},
   "outputs": [
    {
     "name": "stdout",
     "output_type": "stream",
     "text": [
      "141\n"
     ]
    }
   ],
   "source": [
    "import csv\n",
    "IN_count=0\n",
    "with open('amazon_jobs_dataset.csv',\"r\",encoding='utf-8') as file_obj:\n",
    "    file_data = csv.DictReader(file_obj, skipinitialspace = True,)\n",
    "    for row in file_data :\n",
    "        location=row[\"location\"].strip()\n",
    "        if location[:2]==\"IN\" :\n",
    "            IN_count+=1\n",
    "            \n",
    "print(IN_count)"
   ]
  },
  {
   "cell_type": "code",
   "execution_count": 68,
   "metadata": {},
   "outputs": [
    {
     "name": "stdout",
     "output_type": "stream",
     "text": [
      "0\n"
     ]
    }
   ],
   "source": [
    "import csv\n",
    "IN_count=0\n",
    "with open('amazon_jobs_dataset.csv',\"r\",encoding='utf-8') as file_obj:\n",
    "    file_data = csv.DictReader(file_obj, skipinitialspace = True,)\n",
    "    for row in file_data :\n",
    "        location=row[\"BASIC QUALIFICATIONS\"].strip()\n",
    "        if location[:]==\"java\" :\n",
    "            IN_count +=1\n",
    "            \n",
    "print(IN_count)\n"
   ]
  },
  {
   "cell_type": "code",
   "execution_count": 66,
   "metadata": {},
   "outputs": [
    {
     "data": {
      "image/png": "[encoded data removed]",
      "text/plain": [
       "<Figure size 432x288 with 1 Axes>"
      ]
     },
     "metadata": {
      "needs_background": "light"
     },
     "output_type": "display_data"
    },
    {
     "name": "stdout",
     "output_type": "stream",
     "text": [
      "2011 2\n",
      "2012 7\n",
      "2013 3\n",
      "2014 5\n",
      "2015 29\n",
      "2016 123\n",
      "2017 1614\n",
      "2018 1710\n"
     ]
    }
   ],
   "source": [
    "import matplotlib.pyplot as plt\n",
    "import numpy as np \n",
    "import pandas as pd \n",
    "import csv \n",
    "file_obj = open('amazon_jobs_dataset.csv',encoding='utf-8')\n",
    "data = pd.read_csv(file_obj)\n",
    "date = data['Posting_date']\n",
    "month = date.str.split(', ', expand = True)[1]\n",
    "freq = month.value_counts(ascending = True)\n",
    "freq.sort_index(inplace=True)\n",
    "x = freq.index\n",
    "\n",
    "umm = data['BASIC QUALIFICATIONS']\n",
    "balue = umm.str.split(', ', expand = True)[1]\n",
    "\n",
    "for row in file_data :\n",
    "        location=row[\"BASIC QUALIFICATIONS\"].strip()\n",
    "        if location[:2]==\"java\" :\n",
    "\n",
    "\n",
    "\n",
    "\n",
    "plt.plot(x, y, marker = 'o')\n",
    "plt.title('Month vs No. of Job Openings')\n",
    "\n",
    "plt.xlabel('Month')\n",
    "plt.ylabel('No. of Job Openings')\n",
    "plt.show()\n",
    "for i in range(len(x)):\n",
    "    print(x[i],y[i])"
   ]
  },
  {
   "cell_type": "code",
   "execution_count": 74,
   "metadata": {},
   "outputs": [
    {
     "name": "stdout",
     "output_type": "stream",
     "text": [
      "2405\n"
     ]
    }
   ],
   "source": [
    "import csv\n",
    "\n",
    "job_title = 'Java'  \n",
    "lines = 0\n",
    "opening = 0\n",
    "with open('amazon_jobs_dataset.csv',\"r\",encoding='utf-8') as csv_file:\n",
    "    job_reader = csv.reader(csv_file)\n",
    "    \n",
    "    next(job_reader)\n",
    "    \n",
    "    for row in job_reader :\n",
    "        if job_title in row[5]:\n",
    "            opening +=1\n",
    "        lines+=1\n",
    "        \n",
    "print(opening)"
   ]
  },
  {
   "cell_type": "code",
   "execution_count": null,
   "metadata": {},
   "outputs": [],
   "source": []
  }
 ],
 "metadata": {
  "kernelspec": {
   "display_name": "Python 3",
   "language": "python",
   "name": "python3"
  },
  "language_info": {
   "codemirror_mode": {
    "name": "ipython",
    "version": 3
   },
   "file_extension": ".py",
   "mimetype": "text/x-python",
   "name": "python",
   "nbconvert_exporter": "python",
   "pygments_lexer": "ipython3",
   "version": "3.8.5"
  }
 },
 "nbformat": 4,
 "nbformat_minor": 4
}
