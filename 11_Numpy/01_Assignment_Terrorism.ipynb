{
 "cells": [
  {
   "cell_type": "raw",
   "metadata": {},
   "source": [
    "Terrorism Day\n",
    "Send Feedback\n",
    "Given file \"terrorismData.csv\"\n",
    "It is an open-source database including information on terrorist attacks around the world from 1970 through 2017. This dataset includes systematic data on domestic as well as international terrorist incidents that have occurred during this time period\n",
    "Problem Statement :\n",
    "Find the number of attack held between day 10 and day 20?(ignoring the year and month)(including both day)\n",
    "Print count of NumberOFAttack as integer value.\n",
    "Output Format :\n",
    "count"
   ]
  },
  {
   "cell_type": "code",
   "execution_count": 21,
   "metadata": {},
   "outputs": [
    {
     "name": "stdout",
     "output_type": "stream",
     "text": [
      "66330\n"
     ]
    }
   ],
   "source": [
    "import csv\n",
    "import numpy as np \n",
    "with open('terrorismData.csv',\"r\",encoding='utf-8') as obj:\n",
    "    data = csv.DictReader(obj , skipinitialspace = True )\n",
    "    \n",
    "    day =[]\n",
    "    for row in data :\n",
    "        day.append(row['Day'])\n",
    "        \n",
    "    np_day =np.array(day)\n",
    "    \n",
    "    np_day[np_day == ''] = '0.0'\n",
    "\n",
    "                \n",
    "    np_day = np.array(np_day, dtype = float)\n",
    "    np_day = np.array(np_day, dtype = int)\n",
    "    \n",
    "    a =[]\n",
    "    for i in np_day:\n",
    "        if (i>=10) & (i<=20):\n",
    "            a.append(1)\n",
    "        \n",
    "    print(sum(a))\n",
    "        \n",
    "        \n",
    "        \n",
    "   \n",
    "    "
   ]
  },
  {
   "cell_type": "raw",
   "metadata": {},
   "source": [
    "Terrorism Date\n",
    "Send Feedback\n",
    "Given file \"terrorismData.csv\"\n",
    "It is an open-source database including information on terrorist attacks around the world from 1970 through 2017. This dataset includes systematic data on domestic as well as international terrorist incidents that have occurred during this time period\n",
    "Problem Statement :\n",
    "Find the number of attack held between 1 Jan 2010 and 31 Jan 2010?(including both date).\n",
    "Note Ignore the case where day is 0\n",
    "Print count of NumberOFAttack as integer value.\n",
    "Output Format :\n",
    "count    "
   ]
  },
  {
   "cell_type": "code",
   "execution_count": 28,
   "metadata": {},
   "outputs": [
    {
     "name": "stdout",
     "output_type": "stream",
     "text": [
      "271\n"
     ]
    }
   ],
   "source": [
    "import csv\n",
    "import numpy as np \n",
    "with open('terrorismData.csv',\"r\",encoding='utf-8') as obj:\n",
    "    data = csv.DictReader(obj , skipinitialspace = True )\n",
    "    \n",
    "    \n",
    "    day = 0 \n",
    "    for row in data :\n",
    "       # if row['Month' == '1'] and row['Year' == '2010'] and row['Day' != '0'] :\n",
    "        if row['Year'] == '2010' and row['Month'] == '1' and row['Day']!='0' :\n",
    "            day = day+1\n",
    "            \n",
    "    print(day)\n",
    "            \n",
    "        \n",
    "        \n",
    "    \n",
    "    \n",
    "    "
   ]
  },
  {
   "cell_type": "raw",
   "metadata": {},
   "source": [
    "Problem Statement :\n",
    "As we knew the Kargil ( in Jammu and Kashmir) War that took place between May 1999 and July 1999 (3 Months) ,so there was a huge conflict in Kashmir Valley during this period.\n",
    "In this dataset, there is no information regarding the war between the two countries to find out the casualty during the war.\n",
    "So find out the attack in this period in which maximum casualties happened.\n",
    "Print the count of casualties (as integer), city in which that attack happened and name of attack group.\n",
    "Note : Casualty = Killed + Wounded.Fill the empty value in killed or wounded feature to 0.\n",
    "Output Format :\n",
    "Casualty City TerroristGroup"
   ]
  },
  {
   "cell_type": "code",
   "execution_count": 30,
   "metadata": {},
   "outputs": [
    {
     "name": "stdout",
     "output_type": "stream",
     "text": [
      "22 Kargil District Separatists\n"
     ]
    }
   ],
   "source": [
    "import csv\n",
    "\n",
    "casualty = []\n",
    "city = []\n",
    "tGroup = []\n",
    "\n",
    "with open('terrorismData.csv',\"r\",encoding='utf-8') as file_obj:\n",
    "    file_data=csv.DictReader(file_obj, skipinitialspace=True)\n",
    "\n",
    "    for row in file_data :\n",
    "        \n",
    "        if row['Year'] == '1999' and row['State'] == 'Jammu and Kashmir':\n",
    "            if row['Month'] == '5' or row['Month'] == '6' or row['Month'] == '7':\n",
    "                \n",
    "                if row['Killed'] == '' :\n",
    "                    row['Killed'] = '0'   \n",
    "                    \n",
    "                if row['Wounded'] == '' :\n",
    "                    row['Wounded'] = '0'\n",
    "                \n",
    "                if row['City'] !='Unknown' and row['Group'] != 'Unknown' :\n",
    "                    \n",
    "#                         row['Killed'] = int(float(row['Killed']))\n",
    "#                         row['Wounded'] = int(float(row['Wounded']))\n",
    "\n",
    "#                         c = int(float(row['Killed'])) + int(float(row['Wounded']))\n",
    "\n",
    "                        casualty.append(int(float(row['Killed'])) + int(float(row['Wounded'])))\n",
    "                        city.append(row['City'])\n",
    "                        tGroup.append(row['Group'])\n",
    "                        \n",
    "i = casualty.index(max(casualty))\n",
    "print(casualty[i], city[i], tGroup[i])"
   ]
  },
  {
   "cell_type": "raw",
   "metadata": {},
   "source": [
    "Terror Casualty Red\n",
    "Send Feedback\n",
    "Given file \"terrorismData.csv\"\n",
    "It is an open-source database including information on terrorist attacks around the world from 1970 through 2017. This dataset includes systematic data on domestic as well as international terrorist incidents that have occurred during this time period\n",
    "Problem Statement :\n",
    "Find the casualty in the Red Corridor States ? Mainly Red corridor states include Jharkhand, Odisha, Andhra Pradesh, and Chhattisgarh.\n",
    "Note: Casualty=Killed +Wounded\n",
    "Print count of Casualty as integer value.\n",
    "Output Format :\n",
    "Count"
   ]
  },
  {
   "cell_type": "code",
   "execution_count": 34,
   "metadata": {},
   "outputs": [
    {
     "name": "stdout",
     "output_type": "stream",
     "text": [
      "0\n"
     ]
    }
   ],
   "source": [
    "import csv\n",
    "import numpy as np \n",
    "with open('terrorismData.csv',\"r\",encoding='utf-8') as obj:\n",
    "    data = csv.DictReader(obj , skipinitialspace = True )\n",
    "\n",
    "    killed  = []\n",
    "    state = []\n",
    "    wounded = []\n",
    "\n",
    "    for row in data :\n",
    "        killed.append(row['Killed'])\n",
    "        state.append(row['State'])\n",
    "        wounded.append(row['Wounded'])\n",
    "        \n",
    "    np_killed =np.array(killed)\n",
    "    np_killed[np_killed == ''] = '0.0'\n",
    "    np_killed = np.array(np_killed, dtype = float)\n",
    "    \n",
    "    \n",
    "    \n",
    "    np_wounded =np.array(wounded)\n",
    "    np_wounded[np_wounded == ''] = '0.0'\n",
    "    np_wounded = np.array(np_wounded, dtype = float)\n",
    "    \n",
    "    wounded_killed = np_killed + np_wounded\n",
    "    \n",
    "    np_state  = np.array(state)\n",
    "    \n",
    "    \n",
    "    \n",
    "    bool_arr =  state == 'Andhra Pradesh' or  state == 'Jharkhand' or state == 'Odisha' or state == 'Chhattisgarh'\n",
    "    ans = wounded_killed[bool_arr]\n",
    "    \n",
    "\n",
    "        \n",
    "    print(int(sum(ans)))"
   ]
  },
  {
   "cell_type": "code",
   "execution_count": 43,
   "metadata": {},
   "outputs": [
    {
     "name": "stdout",
     "output_type": "stream",
     "text": [
      "935737.0\n",
      "0\n"
     ]
    },
    {
     "name": "stderr",
     "output_type": "stream",
     "text": [
      "<ipython-input-43-eaa012a0cb07>:30: FutureWarning: elementwise comparison failed; returning scalar instead, but in the future will perform elementwise comparison\n",
      "  bool_arr =  np_state == 'Andhra Pradesh' or  np_state == 'Jharkhand' or np_state == 'Odisha' or np_state == 'Chhattisgarh'\n"
     ]
    }
   ],
   "source": [
    "import csv\n",
    "import numpy as np \n",
    "with open('terrorismData.csv',\"r\",encoding='utf-8') as obj:\n",
    "    data = csv.DictReader(obj , skipinitialspace = True )\n",
    "\n",
    "    killed  = []\n",
    "    state = []\n",
    "    wounded = []\n",
    "\n",
    "    for row in data :\n",
    "        killed.append(row['Killed'])\n",
    "        #state.append(row['State'])\n",
    "        wounded.append(row['Wounded'])\n",
    "        \n",
    "    np_killed =np.array(killed)\n",
    "    np_wounded =np.array(wounded)\n",
    "\n",
    "    np_killed[np_killed == ''] = '0.0'\n",
    "    np_wounded[np_wounded == ''] = '0.0'\n",
    "\n",
    "    np_killed = np.array(np_killed, dtype = float)\n",
    "    np_wounded = np.array(np_wounded, dtype = float)\n",
    "    \n",
    "    wounded_killed = np_killed + np_wounded\n",
    "    \n",
    "    np_state  = np.array(state)\n",
    "\n",
    "    \n",
    "    \n",
    "    bool_arr =  state == 'Andhra Pradesh' or  state == 'Jharkhand' or state == 'Odisha' or state == 'Chhattisgarh'\n",
    "    ans = wounded_killed[bool_arr]\n",
    "    \n",
    "    print(np.sum(wounded_killed))\n",
    "    \n",
    "    print(int(sum(ans)))\n",
    "    "
   ]
  },
  {
   "cell_type": "code",
   "execution_count": 45,
   "metadata": {},
   "outputs": [
    {
     "name": "stdout",
     "output_type": "stream",
     "text": [
      "5628\n"
     ]
    }
   ],
   "source": [
    "k=[]\n",
    "w=[]\n",
    "a=[]\n",
    "c=[]\n",
    "y=[]\n",
    "m=[]\n",
    "with open('terrorismData.csv',\"r\",encoding='utf-8') as obj:\n",
    "    file=csv.DictReader(obj,skipinitialspace=True)\n",
    "    for i in file:\n",
    "        if i[\"State\"] ==\"Jharkhand\" or i[\"State\"]==\"Odisha\" or i[\"State\"]==\"Andhra Pradesh\" or i[\"State\"]==\"Chhattisgarh\":\n",
    "            k.append(i[\"Killed\"])\n",
    "            w.append(i[\"Wounded\"])\n",
    "    k=np.array(k)\n",
    "    k[k==\"\"]=0.0\n",
    "    k=np.array(k,dtype=float)\n",
    "    w=np.array(w)\n",
    "    w[w==\"\"]=0.0\n",
    "    w=np.array(w,dtype=float)\n",
    "    k_w=k+w\n",
    "    print(int(k_w.sum()))"
   ]
  },
  {
   "cell_type": "code",
   "execution_count": 52,
   "metadata": {},
   "outputs": [
    {
     "name": "stdout",
     "output_type": "stream",
     "text": [
      "<class 'dict'>\n",
      "Srinagar 3134\n",
      "New Delhi 2095\n",
      "Mumbai 2016\n",
      "Jammu 1119\n",
      "Guwahati 822\n",
      "<class 'tuple'>\n"
     ]
    }
   ],
   "source": [
    "import csv\n",
    "\n",
    "casualty = []\n",
    "city = []\n",
    "\n",
    "with open('terrorismData.csv',\"r\",encoding='utf-8') as file_obj:\n",
    "    file_data=csv.DictReader(file_obj, skipinitialspace=True)\n",
    "\n",
    "    for row in file_data :\n",
    "        if row['Country'] == 'India' and row['City'] != 'Unknown':          \n",
    "            if row['Killed'] == '' :\n",
    "                row['Killed'] = '0'   \n",
    "            if row['Wounded'] == '' :\n",
    "                row['Wounded'] = '0'\n",
    "\n",
    "            casualty.append(int(float(row['Killed'])) + int(float(row['Wounded'])))\n",
    "            city.append(row['City'])\n",
    "\n",
    "freq = {}\n",
    "# print(type(freq))\n",
    "\n",
    "for i in range(len(city)):\n",
    "    if city[i] in freq:\n",
    "        freq[city[i]] = freq[city[i]] + casualty[i]\n",
    "    else:\n",
    "        freq[city[i]] = casualty[i]\n",
    "        \n",
    "freq = sorted(freq.items(), key=lambda x: x[1], reverse=True)\n",
    "\n",
    "for i in range(5):\n",
    "    print(*freq[i])\n",
    "# print(type(freq[i]))"
   ]
  },
  {
   "cell_type": "code",
   "execution_count": 53,
   "metadata": {},
   "outputs": [
    {
     "name": "stdout",
     "output_type": "stream",
     "text": [
      "15 6500\n"
     ]
    }
   ],
   "source": [
    "import csv\n",
    "\n",
    "day = []\n",
    "\n",
    "with open('terrorismData.csv',\"r\",encoding='utf-8') as file_obj:\n",
    "    file_data=csv.DictReader(file_obj, skipinitialspace=True)\n",
    "\n",
    "    for row in file_data :\n",
    "            day.append(row['Day'])\n",
    "\n",
    "d = {}\n",
    "for i in range(len(day)):\n",
    "    if day[i] in d:\n",
    "        d[day[i]] = d[day[i]] + 1\n",
    "    else:\n",
    "        d[day[i]] = 1\n",
    "\n",
    "d = sorted(d.items(), key=lambda x: x[1], reverse=True)\n",
    "\n",
    "print(*d[0])"
   ]
  },
  {
   "cell_type": "code",
   "execution_count": null,
   "metadata": {},
   "outputs": [],
   "source": []
  }
 ],
 "metadata": {
  "kernelspec": {
   "display_name": "Python 3",
   "language": "python",
   "name": "python3"
  },
  "language_info": {
   "codemirror_mode": {
    "name": "ipython",
    "version": 3
   },
   "file_extension": ".py",
   "mimetype": "text/x-python",
   "name": "python",
   "nbconvert_exporter": "python",
   "pygments_lexer": "ipython3",
   "version": "3.8.5"
  }
 },
 "nbformat": 4,
 "nbformat_minor": 4
}
