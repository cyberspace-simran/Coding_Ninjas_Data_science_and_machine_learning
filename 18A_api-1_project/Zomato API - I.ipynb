{
 "cells": [
  {
   "cell_type": "raw",
   "metadata": {},
   "source": [
    " API KEY\n",
    " 53f964f0115fa5df324a07f7609f4eb2\n",
    " 53f964f0115fa5df324a07f7609f4eb2\n",
    "https://developers.zomato.com/api#headline2"
   ]
  },
  {
   "cell_type": "raw",
   "metadata": {},
   "source": [
    "Project Details\n",
    "Send Feedback\n",
    "For this project, we are using the Zomato API.\n",
    "Zomato APIs give you access to the freshest and most exhaustive information for over 1.5 million restaurants across 10,000 cities globally.\n",
    "Zomato API documentation link\n",
    "Our Motivation for using Zomato API\n",
    "By Collecting the data using Zomato API one can recommend restaurants on the basis of user’s affinity to specific cuisines, establishment types, locations, and price bands.\n",
    "We can find out whether restaurant support online reservation or not.\n",
    "We can find what is the most popular and/ or exclusive/new at a given location & time."
   ]
  },
  {
   "cell_type": "raw",
   "metadata": {},
   "source": [
    "Zomato cuisine problem details\n",
    "Send Feedback\n",
    "Mexican cuisine began about 9,000 years ago, when agricultural communities such as the Maya formed, domesticating maize, creating the standard process of corn nixtamalization, and establishing their foodways.\n",
    "You are a huge fan of ‘Mexican’ cuisine. Now using the Zomato API you want to analyse the best restaurant serving the Mexican Cuisine, their locations, and cost for two, etc.\n",
    "There is a list of questions related to Mexican cuisines given in the next section.\n"
   ]
  },
  {
   "cell_type": "raw",
   "metadata": {},
   "source": [
    "Zomato Cuisine 1.1\n",
    "Send Feedback\n",
    "Fetch the cuisine_id of ‘Mexican’ cuisine using Zomato API.\n",
    "Print the cuisine_id.\n",
    "Output Format:\n",
    "cuisine_id"
   ]
  },
  {
   "cell_type": "code",
   "execution_count": 2,
   "metadata": {},
   "outputs": [],
   "source": [
    "import requests\n",
    "import json"
   ]
  },
  {
   "cell_type": "code",
   "execution_count": 3,
   "metadata": {},
   "outputs": [
    {
     "data": {
      "text/plain": [
       "<Response [200]>"
      ]
     },
     "execution_count": 3,
     "metadata": {},
     "output_type": "execute_result"
    }
   ],
   "source": [
    "r = requests.get('https://developers.zomato.com/api/v2.1/categories', headers = {'user-key':'53f964f0115fa5df324a07f7609f4eb2'})\n",
    "r"
   ]
  },
  {
   "cell_type": "code",
   "execution_count": 4,
   "metadata": {},
   "outputs": [
    {
     "data": {
      "text/plain": [
       "{'categories': [{'categories': {'id': 1, 'name': 'Delivery'}},\n",
       "  {'categories': {'id': 2, 'name': 'Dine-out'}},\n",
       "  {'categories': {'id': 3, 'name': 'Nightlife'}},\n",
       "  {'categories': {'id': 4, 'name': 'Catching-up'}},\n",
       "  {'categories': {'id': 5, 'name': 'Takeaway'}},\n",
       "  {'categories': {'id': 6, 'name': 'Cafes'}},\n",
       "  {'categories': {'id': 7, 'name': 'Daily Menus'}},\n",
       "  {'categories': {'id': 8, 'name': 'Breakfast'}},\n",
       "  {'categories': {'id': 9, 'name': 'Lunch'}},\n",
       "  {'categories': {'id': 10, 'name': 'Dinner'}},\n",
       "  {'categories': {'id': 11, 'name': 'Pubs & Bars'}},\n",
       "  {'categories': {'id': 13, 'name': 'Pocket Friendly Delivery'}},\n",
       "  {'categories': {'id': 14, 'name': 'Clubs & Lounges'}}]}"
      ]
     },
     "execution_count": 4,
     "metadata": {},
     "output_type": "execute_result"
    }
   ],
   "source": [
    "data = r.json()\n",
    "data"
   ]
  },
  {
   "cell_type": "code",
   "execution_count": null,
   "metadata": {},
   "outputs": [],
   "source": []
  }
 ],
 "metadata": {
  "kernelspec": {
   "display_name": "Python 3",
   "language": "python",
   "name": "python3"
  },
  "language_info": {
   "codemirror_mode": {
    "name": "ipython",
    "version": 3
   },
   "file_extension": ".py",
   "mimetype": "text/x-python",
   "name": "python",
   "nbconvert_exporter": "python",
   "pygments_lexer": "ipython3",
   "version": "3.8.5"
  }
 },
 "nbformat": 4,
 "nbformat_minor": 4
}
