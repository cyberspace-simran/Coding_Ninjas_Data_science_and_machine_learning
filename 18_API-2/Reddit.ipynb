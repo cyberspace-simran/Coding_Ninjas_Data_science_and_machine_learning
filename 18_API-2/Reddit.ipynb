{
 "cells": [
  {
   "cell_type": "raw",
   "metadata": {},
   "source": [
    "skjee05\n",
    "web app\n",
    "AnH23gS-uJir3w\n",
    "change icon\n",
    "secret\tE7K9nVX_CRgYO393pgaV3WVVTQj75Q"
   ]
  },
  {
   "cell_type": "code",
   "execution_count": 1,
   "metadata": {},
   "outputs": [],
   "source": [
    "import requests"
   ]
  },
  {
   "cell_type": "code",
   "execution_count": 2,
   "metadata": {},
   "outputs": [],
   "source": [
    "import json"
   ]
  },
  {
   "cell_type": "code",
   "execution_count": 8,
   "metadata": {},
   "outputs": [
    {
     "name": "stdout",
     "output_type": "stream",
     "text": [
      "https://www.reddit.com/api/v1/authorize?client_id=AnH23gS-uJir3w&response_type=code&state=random_123&redirect_uri=https%3A%2F%2Fwww.google.com%2F&scope=read\n"
     ]
    }
   ],
   "source": [
    "data = {'client_id' :'AnH23gS-uJir3w' , 'response_type': 'code', 'state': 'random_123',\n",
    "       'redirect_uri' : 'https://www.google.com/','scope': 'read'}\n",
    "response= requests.get('http://www.reddit.com/api/v1/authorize', params = data)\n",
    "print(response.url)"
   ]
  },
  {
   "cell_type": "code",
   "execution_count": 9,
   "metadata": {},
   "outputs": [],
   "source": [
    "# https://www.google.com/?state=random_123&code=k8n3C7vUJPh63fWqxUPhRXLqsutkDA"
   ]
  },
  {
   "cell_type": "code",
   "execution_count": 13,
   "metadata": {},
   "outputs": [
    {
     "name": "stdout",
     "output_type": "stream",
     "text": [
      "{\"message\": \"Too Many Requests\", \"error\": 429}\n"
     ]
    }
   ],
   "source": [
    "data = {'grant_type':'authorization_code','code': 'mhQ8P0EUswLgg6IyG_WnPkh_HNMQfA',\n",
    "       'redirect_uri' : 'https://www.google.com/'}\n",
    "r = requests.post('http://www.reddit.com/api/v1/access_token', data = data,\n",
    "                 auth = ('AnH23gS-uJir3w','E7K9nVX_CRgYO393pgaV3WVVTQj75Q'))\n",
    "print(r.text)"
   ]
  },
  {
   "cell_type": "raw",
   "metadata": {},
   "source": [
    "Data Sc\n",
    "web app\n",
    "vv1_CKUZnSjEkQ\n",
    "change icon\n",
    "secret\tzybYdRHLx6rZmyENge8Hpqre08dnSg\n",
    "\n",
    "https://www.google.com/?state=random_123&code=ywT1mwn1Fc6AiOHDBBcZmlF2aWQDYw"
   ]
  },
  {
   "cell_type": "code",
   "execution_count": 15,
   "metadata": {},
   "outputs": [
    {
     "name": "stdout",
     "output_type": "stream",
     "text": [
      "https://www.reddit.com/api/v1/authorize?client_id=vv1_CKUZnSjEkQ&response_type=code&state=random_123&redirect_uri=https%3A%2F%2Fwww.google.com%2F&scope=read\n"
     ]
    }
   ],
   "source": [
    "data = {'client_id' :'vv1_CKUZnSjEkQ' , 'response_type': 'code', 'state': 'random_123',\n",
    "       'redirect_uri' : 'https://www.google.com/','scope': 'read'}\n",
    "response= requests.get('http://www.reddit.com/api/v1/authorize', params = data)\n",
    "print(response.url)"
   ]
  },
  {
   "cell_type": "code",
   "execution_count": 16,
   "metadata": {},
   "outputs": [
    {
     "name": "stdout",
     "output_type": "stream",
     "text": [
      "{\"message\": \"Too Many Requests\", \"error\": 429}\n"
     ]
    }
   ],
   "source": [
    "data = {'grant_type':'authorization_code','code': 'ywT1mwn1Fc6AiOHDBBcZmlF2aWQDYw',\n",
    "       'redirect_uri' : 'https://www.google.com/'}\n",
    "r = requests.post('http://www.reddit.com/api/v1/access_token', data = data,\n",
    "                 auth = ('vv1_CKUZnSjEkQ','zybYdRHLx6rZmyENge8Hpqre08dnSg'))\n",
    "print(r.text)"
   ]
  },
  {
   "cell_type": "code",
   "execution_count": null,
   "metadata": {},
   "outputs": [],
   "source": []
  }
 ],
 "metadata": {
  "kernelspec": {
   "display_name": "Python 3",
   "language": "python",
   "name": "python3"
  },
  "language_info": {
   "codemirror_mode": {
    "name": "ipython",
    "version": 3
   },
   "file_extension": ".py",
   "mimetype": "text/x-python",
   "name": "python",
   "nbconvert_exporter": "python",
   "pygments_lexer": "ipython3",
   "version": "3.8.5"
  }
 },
 "nbformat": 4,
 "nbformat_minor": 4
}
