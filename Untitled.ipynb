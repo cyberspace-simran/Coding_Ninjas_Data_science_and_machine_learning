{
 "cells": [
  {
   "cell_type": "code",
   "execution_count": 6,
   "metadata": {},
   "outputs": [
    {
     "name": "stdout",
     "output_type": "stream",
     "text": [
      "65\n"
     ]
    }
   ],
   "source": [
    "import requests\n",
    "import json\n",
    "response = requests.get('https://api.openaq.org/v1/cities/', params={ 'country' : \"AU\"})\n",
    "data = response.json()\n",
    "all_cities = data['results']\n",
    "a=[]\n",
    "for i in all_cities:\n",
    "    a.append(i['city'])\n",
    "print(len(set(a)))\n"
   ]
  },
  {
   "cell_type": "code",
   "execution_count": 30,
   "metadata": {},
   "outputs": [
    {
     "name": "stdout",
     "output_type": "stream",
     "text": [
      "Antwerpen\n",
      "Brabant wallon\n",
      "Brussels\n",
      "Brussels-Capital Region\n",
      "Flanders\n"
     ]
    }
   ],
   "source": [
    "import requests\n",
    "import json\n",
    "response = requests.get('https://api.openaq.org/v1/cities/', params={ 'country' : \"BE\" , 'limit':5})\n",
    "data1 = response.json()\n",
    "\n",
    "# print(response.json())\n",
    "# print(response.url)\n",
    "\n",
    "all_cities1 = data1['results']\n",
    "\n",
    "a=[]\n",
    "for i in all_cities1:\n",
    "     a.append(i['city'])\n",
    "for i in a:\n",
    "    print (i)"
   ]
  },
  {
   "cell_type": "code",
   "execution_count": 41,
   "metadata": {},
   "outputs": [
    {
     "name": "stdout",
     "output_type": "stream",
     "text": [
      "1132447\n"
     ]
    }
   ],
   "source": [
    "# https://www.metaweather.com/api/location/search/\n",
    "import requests\n",
    "a = requests.get('https://www.metaweather.com/api/location/search/', params = {\"query\":\"USA\"})\n",
    "# print(a.json())\n",
    "# print(a.url)\n",
    "import json\n",
    "abc = json.loads(a.text)\n",
    "for i in abc:\n",
    "    print(i['woeid'])\n",
    "\n"
   ]
  },
  {
   "cell_type": "code",
   "execution_count": 47,
   "metadata": {},
   "outputs": [
    {
     "name": "stdout",
     "output_type": "stream",
     "text": [
      "https://holidayapi.com/v1/holidays?pretty&country=IN&year=2019&key=b85af833-56f9-42bb-a796-e0054373018d&api_key=b85af833-56f9-42bb-a796-e0054373018d\n"
     ]
    },
    {
     "ename": "TypeError",
     "evalue": "'Response' object is not subscriptable",
     "output_type": "error",
     "traceback": [
      "\u001b[1;31m---------------------------------------------------------------------------\u001b[0m",
      "\u001b[1;31mTypeError\u001b[0m                                 Traceback (most recent call last)",
      "\u001b[1;32m<ipython-input-47-f9dd132976f3>\u001b[0m in \u001b[0;36m<module>\u001b[1;34m\u001b[0m\n\u001b[0;32m      6\u001b[0m \u001b[0mprint\u001b[0m\u001b[1;33m(\u001b[0m\u001b[0masd\u001b[0m\u001b[1;33m.\u001b[0m\u001b[0murl\u001b[0m\u001b[1;33m)\u001b[0m\u001b[1;33m\u001b[0m\u001b[1;33m\u001b[0m\u001b[0m\n\u001b[0;32m      7\u001b[0m \u001b[1;32mimport\u001b[0m \u001b[0mjson\u001b[0m\u001b[1;33m\u001b[0m\u001b[1;33m\u001b[0m\u001b[0m\n\u001b[1;32m----> 8\u001b[1;33m \u001b[0mabcd\u001b[0m \u001b[1;33m=\u001b[0m \u001b[0masd\u001b[0m\u001b[1;33m[\u001b[0m\u001b[1;34m'holidays'\u001b[0m\u001b[1;33m]\u001b[0m\u001b[1;33m\u001b[0m\u001b[1;33m\u001b[0m\u001b[0m\n\u001b[0m\u001b[0;32m      9\u001b[0m \u001b[1;32mfor\u001b[0m \u001b[0mi\u001b[0m \u001b[1;32min\u001b[0m \u001b[0mabcd\u001b[0m\u001b[1;33m:\u001b[0m\u001b[1;33m\u001b[0m\u001b[1;33m\u001b[0m\u001b[0m\n\u001b[0;32m     10\u001b[0m     \u001b[0mprint\u001b[0m\u001b[1;33m(\u001b[0m\u001b[0mi\u001b[0m\u001b[1;33m[\u001b[0m\u001b[1;34m'2019-10-02'\u001b[0m\u001b[1;33m]\u001b[0m\u001b[1;33m)\u001b[0m\u001b[1;33m\u001b[0m\u001b[1;33m\u001b[0m\u001b[0m\n",
      "\u001b[1;31mTypeError\u001b[0m: 'Response' object is not subscriptable"
     ]
    }
   ],
   "source": [
    "# b85af833-56f9-42bb-a796-e0054373018d\n",
    "# https://holidayapi.com/countries/in/2019\n",
    "import requests\n",
    "asd = requests.get('https://holidayapi.com/v1/holidays?pretty&country=IN&year=2019&key=b85af833-56f9-42bb-a796-e0054373018d', params = {\"api_key\":\"b85af833-56f9-42bb-a796-e0054373018d\"})  \n",
    "# print(asd.json())\n",
    "print(asd.url)\n",
    "import json\n",
    "abcd = asd['holidays']\n",
    "for i in abcd:\n",
    "    print(i['2019-10-02'])\n"
   ]
  },
  {
   "cell_type": "code",
   "execution_count": null,
   "metadata": {},
   "outputs": [],
   "source": []
  }
 ],
 "metadata": {
  "kernelspec": {
   "display_name": "Python 3",
   "language": "python",
   "name": "python3"
  },
  "language_info": {
   "codemirror_mode": {
    "name": "ipython",
    "version": 3
   },
   "file_extension": ".py",
   "mimetype": "text/x-python",
   "name": "python",
   "nbconvert_exporter": "python",
   "pygments_lexer": "ipython3",
   "version": "3.8.5"
  }
 },
 "nbformat": 4,
 "nbformat_minor": 4
}
