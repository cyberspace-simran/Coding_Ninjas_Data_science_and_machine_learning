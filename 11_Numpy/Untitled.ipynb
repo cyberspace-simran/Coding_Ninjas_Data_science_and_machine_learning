{
 "cells": [
  {
   "cell_type": "code",
   "execution_count": 4,
   "metadata": {},
   "outputs": [
    {
     "data": {
      "text/plain": [
       "array([[9, 8, 2, 2],\n",
       "       [4, 2, 7, 8],\n",
       "       [5, 1, 7, 4],\n",
       "       [8, 0, 5, 4]])"
      ]
     },
     "execution_count": 4,
     "metadata": {},
     "output_type": "execute_result"
    }
   ],
   "source": [
    "import numpy as np\n",
    "a = np.random.randint(10 , size = (4,4))\n",
    "a"
   ]
  },
  {
   "cell_type": "code",
   "execution_count": 12,
   "metadata": {},
   "outputs": [
    {
     "name": "stdout",
     "output_type": "stream",
     "text": [
      "9 9 10 11 12 13 13 14 15 16 17 17 18 19 20 21 22 22 23 24 25 26 26 27 28 29 30 31 31 32 33 34 35 35 36 37 38 39 40 40 41 42 43 44 44 45 46 47 48 49 "
     ]
    }
   ],
   "source": [
    "import numpy as np\n",
    "x = np.linspace(9, 49, dtype = int)\n",
    "for elem in x:\n",
    "    print(elem,end=' ')"
   ]
  },
  {
   "cell_type": "code",
   "execution_count": 15,
   "metadata": {},
   "outputs": [
    {
     "data": {
      "text/plain": [
       "array([[1., 0., 0., 0., 0., 0.],\n",
       "       [0., 1., 0., 0., 0., 0.],\n",
       "       [0., 0., 1., 0., 0., 0.],\n",
       "       [0., 0., 0., 1., 0., 0.],\n",
       "       [0., 0., 0., 0., 1., 0.]])"
      ]
     },
     "execution_count": 15,
     "metadata": {},
     "output_type": "execute_result"
    }
   ],
   "source": [
    "import numpy as np\n",
    "b = np.eye(5,6)\n",
    "b"
   ]
  },
  {
   "cell_type": "code",
   "execution_count": 21,
   "metadata": {},
   "outputs": [
    {
     "name": "stdout",
     "output_type": "stream",
     "text": [
      "0.0 \n",
      "0.5 \n",
      "1.0 \n",
      "1.5 \n",
      "2.0 \n",
      "2.5 \n",
      "3.0 \n",
      "3.5 \n",
      "4.0 \n",
      "4.5 \n"
     ]
    }
   ],
   "source": [
    "import numpy as np\n",
    "x = np.linspace(0, 5, 10 ,endpoint = False)\n",
    "for elem in x:\n",
    "    print(round(elem,2),end=' \\n')"
   ]
  },
  {
   "cell_type": "code",
   "execution_count": 28,
   "metadata": {},
   "outputs": [
    {
     "ename": "TypeError",
     "evalue": "_linspace_dispatcher() got an unexpected keyword argument 'startpoint'",
     "output_type": "error",
     "traceback": [
      "\u001b[1;31m---------------------------------------------------------------------------\u001b[0m",
      "\u001b[1;31mTypeError\u001b[0m                                 Traceback (most recent call last)",
      "\u001b[1;32m<ipython-input-28-de0f3f9fdce9>\u001b[0m in \u001b[0;36m<module>\u001b[1;34m\u001b[0m\n\u001b[0;32m      1\u001b[0m \u001b[1;32mimport\u001b[0m \u001b[0mnumpy\u001b[0m \u001b[1;32mas\u001b[0m \u001b[0mnp\u001b[0m\u001b[1;33m\u001b[0m\u001b[1;33m\u001b[0m\u001b[0m\n\u001b[1;32m----> 2\u001b[1;33m \u001b[0mx\u001b[0m \u001b[1;33m=\u001b[0m \u001b[0mnp\u001b[0m\u001b[1;33m.\u001b[0m\u001b[0mlinspace\u001b[0m\u001b[1;33m(\u001b[0m\u001b[1;36m0\u001b[0m\u001b[1;33m,\u001b[0m \u001b[1;36m5\u001b[0m\u001b[1;33m,\u001b[0m \u001b[1;36m10\u001b[0m \u001b[1;33m,\u001b[0m\u001b[0mendpoint\u001b[0m \u001b[1;33m=\u001b[0m \u001b[1;32mFalse\u001b[0m\u001b[1;33m,\u001b[0m \u001b[0mstartpoint\u001b[0m \u001b[1;33m=\u001b[0m \u001b[1;32mFalse\u001b[0m\u001b[1;33m)\u001b[0m\u001b[1;33m\u001b[0m\u001b[1;33m\u001b[0m\u001b[0m\n\u001b[0m\u001b[0;32m      3\u001b[0m \u001b[1;32mfor\u001b[0m \u001b[0melem\u001b[0m \u001b[1;32min\u001b[0m \u001b[0mx\u001b[0m\u001b[1;33m:\u001b[0m\u001b[1;33m\u001b[0m\u001b[1;33m\u001b[0m\u001b[0m\n\u001b[0;32m      4\u001b[0m     \u001b[0mprint\u001b[0m\u001b[1;33m(\u001b[0m\u001b[0mround\u001b[0m\u001b[1;33m(\u001b[0m\u001b[0melem\u001b[0m\u001b[1;33m,\u001b[0m\u001b[1;36m2\u001b[0m\u001b[1;33m)\u001b[0m\u001b[1;33m,\u001b[0m\u001b[0mend\u001b[0m\u001b[1;33m=\u001b[0m\u001b[1;34m' \\n'\u001b[0m\u001b[1;33m)\u001b[0m\u001b[1;33m\u001b[0m\u001b[1;33m\u001b[0m\u001b[0m\n",
      "\u001b[1;32m<__array_function__ internals>\u001b[0m in \u001b[0;36mlinspace\u001b[1;34m(*args, **kwargs)\u001b[0m\n",
      "\u001b[1;31mTypeError\u001b[0m: _linspace_dispatcher() got an unexpected keyword argument 'startpoint'"
     ]
    }
   ],
   "source": [
    "import numpy as np\n",
    "x = np.linspace(0, 5, 10 ,endpoint = False, startpoint = False)\n",
    "for elem in x:\n",
    "    print(round(elem,2),end=' \\n')"
   ]
  },
  {
   "cell_type": "code",
   "execution_count": 29,
   "metadata": {},
   "outputs": [
    {
     "name": "stdout",
     "output_type": "stream",
     "text": [
      "0.5 \n",
      "1.0 \n",
      "1.5 \n",
      "2.0 \n",
      "2.5 \n",
      "3.0 \n",
      "3.5 \n",
      "4.0 \n",
      "4.5 \n"
     ]
    }
   ],
   "source": [
    "import numpy as np\n",
    "x = np.linspace(0, 5, 10 ,endpoint = False)\n",
    "for elem in x:\n",
    "    if elem == 0 or elem ==5:\n",
    "        continue\n",
    "    print(round(elem,2),end=' \\n')"
   ]
  },
  {
   "cell_type": "code",
   "execution_count": 30,
   "metadata": {},
   "outputs": [],
   "source": [
    "import numpy as np\n",
    "input_=np.arange(1,21,1)\n",
    "input_=input_.reshape(4,5)"
   ]
  },
  {
   "cell_type": "code",
   "execution_count": 32,
   "metadata": {},
   "outputs": [
    {
     "data": {
      "text/plain": [
       "array([[ 1,  2,  3,  4,  5],\n",
       "       [ 6,  7,  8,  9, 10],\n",
       "       [11, 12, 13, 14, 15],\n",
       "       [16, 17, 18, 19, 20]])"
      ]
     },
     "execution_count": 32,
     "metadata": {},
     "output_type": "execute_result"
    }
   ],
   "source": [
    "input_"
   ]
  },
  {
   "cell_type": "code",
   "execution_count": 62,
   "metadata": {},
   "outputs": [
    {
     "name": "stdout",
     "output_type": "stream",
     "text": [
      "11 12 13 \n",
      "9 14 19 \n",
      "11 12 13 14 15 \n",
      "16 17 18 19 20 \n",
      "7 8 12 13 "
     ]
    }
   ],
   "source": [
    "input_1= (input_[2:3 , 0:3])\n",
    "for x in input_1:\n",
    "    print(*x, end =\" \")\n",
    "    print()\n",
    "input_2= (input_[1:4 , 3:4])\n",
    "for x in input_2:\n",
    "    print(*x, end =\" \")\n",
    "print()\n",
    "input_3= (input_[2:4 , 0:5])\n",
    "for x in input_3:\n",
    "    print(*x, end =\" \")\n",
    "    print()\n",
    "input_4= (input_[1:3 , 1:3])\n",
    "for x in input_4:\n",
    "    print(*x, end =\" \")"
   ]
  },
  {
   "cell_type": "code",
   "execution_count": 69,
   "metadata": {},
   "outputs": [
    {
     "name": "stdout",
     "output_type": "stream",
     "text": [
      "2\n"
     ]
    }
   ],
   "source": [
    "# Problem Statemnt:\n",
    "# Find indices of non-zero elements from the array [1,2,0,0,4,0] ?\n",
    "# Print the index of non-zero elements.\n",
    "# Output Format :\n",
    "# index1 index2 index3 ... \n",
    "import numpy as np\n",
    "a = [1,2,0,0,4,0] \n",
    "b = np.array(a)\n",
    "print(b.argmin())\n"
   ]
  },
  {
   "cell_type": "code",
   "execution_count": 76,
   "metadata": {},
   "outputs": [
    {
     "name": "stdout",
     "output_type": "stream",
     "text": [
      "2 3 5 "
     ]
    }
   ],
   "source": [
    "import numpy as np\n",
    "a = [1,2,0,0,4,0] \n",
    "b = np.array(a)\n",
    "ind = np.where(b == 0)\n",
    "#print(*ind)\n",
    "for elem in ind:\n",
    "    print(*elem,end=' ')"
   ]
  },
  {
   "cell_type": "code",
   "execution_count": 77,
   "metadata": {},
   "outputs": [
    {
     "name": "stdout",
     "output_type": "stream",
     "text": [
      "1 4 7 "
     ]
    }
   ],
   "source": [
    "\n",
    "\n",
    "import numpy as np\n",
    "a = [ 1,  3,  5,  7,  9, 11, 13, 15, 17, 19]\n",
    "b = np.array(a)\n",
    "ind = np.where(b%3==0)\n",
    "#print(*ind)\n",
    "for elem in ind:\n",
    "    print(*elem,end=' ')\n"
   ]
  },
  {
   "cell_type": "code",
   "execution_count": 82,
   "metadata": {},
   "outputs": [
    {
     "name": "stdout",
     "output_type": "stream",
     "text": [
      "2 4 6 8 10 "
     ]
    }
   ],
   "source": [
    "import numpy as np\n",
    "a = [1, 2, 3, 4, 5, 6, 7, 8, 9, 10]\n",
    "b = np.array(a)\n",
    "# ind = np.where(b%2==0)\n",
    "#print(*ind)\n",
    "for elem in b:\n",
    "    if (elem%2==0)  :\n",
    "        print(elem, end = \" \")"
   ]
  },
  {
   "cell_type": "code",
   "execution_count": 84,
   "metadata": {},
   "outputs": [
    {
     "name": "stdout",
     "output_type": "stream",
     "text": [
      "-1 2 -1 4 -1 6 -1 8 -1 10 "
     ]
    }
   ],
   "source": [
    "import numpy as np\n",
    "a = [-1, 2, -1, 4, -1, 6, -1, 8, -1, 10]\n",
    "b = np.array(a)\n",
    "for elem in b:\n",
    "    print(elem,end=' ')"
   ]
  },
  {
   "cell_type": "code",
   "execution_count": 88,
   "metadata": {},
   "outputs": [
    {
     "name": "stdout",
     "output_type": "stream",
     "text": [
      "1 -1 2 3 -1 4 5 -1 6 7 -1 8 9 -1 10 "
     ]
    }
   ],
   "source": [
    "import numpy as np\n",
    "a = [1, 2, 3, 4, 5, 6, 7, 8, 9, 10]\n",
    "b = np.array(a)\n",
    "# ind = np.where(b%2==0)\n",
    "#print(*ind)\n",
    "for elem in b:\n",
    "    print(elem , end=\" \")\n",
    "    if (elem%2!=0)  :\n",
    "        print(-1, end = \" \")"
   ]
  },
  {
   "cell_type": "code",
   "execution_count": 89,
   "metadata": {},
   "outputs": [
    {
     "name": "stdout",
     "output_type": "stream",
     "text": [
      "-1 2 -1 4 -1 6 -1 8 -1 10 "
     ]
    }
   ],
   "source": [
    "import numpy as np\n",
    "nparray=np.arange(1,11,1)\n",
    "nparray[nparray%2!=0]=-1\n",
    "for i in nparray: \n",
    "    print(i,end=' ')"
   ]
  },
  {
   "cell_type": "code",
   "execution_count": 95,
   "metadata": {},
   "outputs": [
    {
     "name": "stdout",
     "output_type": "stream",
     "text": [
      "11 2 13 4 15 6 0 8 19 "
     ]
    }
   ],
   "source": [
    "import numpy as np\n",
    "a = [11, 2, 13, 4, 15, 6, 27, 8, 19]\n",
    "b = np.array(a)\n",
    "b[b.argmax()]= 0\n",
    "for elem in b:\n",
    "    print(elem,end=' ')\n",
    "\n",
    "# print(b.max())\n",
    "# print(b.argmax())"
   ]
  },
  {
   "cell_type": "code",
   "execution_count": 98,
   "metadata": {},
   "outputs": [
    {
     "name": "stdout",
     "output_type": "stream",
     "text": [
      "1 2 -3 -4 -5 -6 -7 -8 9 10 "
     ]
    }
   ],
   "source": [
    "import numpy as np\n",
    "a = [1, 2, -3, -4, -5, -6, -7, -8, 9, 10]\n",
    "b = np.array(a)\n",
    "for elem in b:\n",
    "    print(elem,end=' ')"
   ]
  },
  {
   "cell_type": "code",
   "execution_count": 99,
   "metadata": {},
   "outputs": [
    {
     "ename": "SyntaxError",
     "evalue": "invalid syntax (<ipython-input-99-4d1c5d3edca8>, line 5)",
     "output_type": "error",
     "traceback": [
      "\u001b[1;36m  File \u001b[1;32m\"<ipython-input-99-4d1c5d3edca8>\"\u001b[1;36m, line \u001b[1;32m5\u001b[0m\n\u001b[1;33m    if ()\u001b[0m\n\u001b[1;37m         ^\u001b[0m\n\u001b[1;31mSyntaxError\u001b[0m\u001b[1;31m:\u001b[0m invalid syntax\n"
     ]
    }
   ],
   "source": [
    "import numpy as np\n",
    "a = [1, 2, -3, -4, -5, -6, -7, -8, 9, 10]\n",
    "b = np.array(a)\n",
    "for elem in b:\n",
    "    if ()\n",
    "    print(elem,end=' ')"
   ]
  },
  {
   "cell_type": "code",
   "execution_count": 107,
   "metadata": {},
   "outputs": [
    {
     "name": "stdout",
     "output_type": "stream",
     "text": [
      "[15 17 19 20 14 21 16 19 13 20 22 23 21 16 18 19 20 15 17 18]\n",
      "15 17 19 20 14 21 16 19 13 20 22 23 21 16 18 19 20 15 17 18 \n",
      "156 144 180 162 152 157 154 155 151 150 158 179 126 182 183 154 159 160 172 149 \n"
     ]
    }
   ],
   "source": [
    "import numpy as np\n",
    "age= np.array([15,17,19,20,14,21,16,19,13,20,22,23,21,16,18,19,20,15,17,18])\n",
    "height= np.array([156,144,180,162,152,157,154,155,151,150,158,179,126,182,183,154,159,160,172,149])\n",
    "\n",
    "for elem in age, height:\n",
    "    if age[]\n",
    "    print(*elem,end=' \\n')"
   ]
  },
  {
   "cell_type": "code",
   "execution_count": 7,
   "metadata": {},
   "outputs": [],
   "source": [
    "import numpy as np\n",
    "a = np.array ([[21, 20, 19, 18, 17],[16, 15, 14, 13, 12], [11, 10,  9,  8,  7],[ 6,  5,  4,  3,  2]])"
   ]
  },
  {
   "cell_type": "code",
   "execution_count": 8,
   "metadata": {},
   "outputs": [
    {
     "data": {
      "text/plain": [
       "array([[21, 20, 19, 18, 17],\n",
       "       [16, 15, 14, 13, 12],\n",
       "       [11, 10,  9,  8,  7],\n",
       "       [ 6,  5,  4,  3,  2]])"
      ]
     },
     "execution_count": 8,
     "metadata": {},
     "output_type": "execute_result"
    }
   ],
   "source": [
    "a"
   ]
  },
  {
   "cell_type": "code",
   "execution_count": 9,
   "metadata": {},
   "outputs": [],
   "source": [
    "a.sort(axis=0)"
   ]
  },
  {
   "cell_type": "code",
   "execution_count": 10,
   "metadata": {},
   "outputs": [
    {
     "data": {
      "text/plain": [
       "array([[ 6,  5,  4,  3,  2],\n",
       "       [11, 10,  9,  8,  7],\n",
       "       [16, 15, 14, 13, 12],\n",
       "       [21, 20, 19, 18, 17]])"
      ]
     },
     "execution_count": 10,
     "metadata": {},
     "output_type": "execute_result"
    }
   ],
   "source": [
    "a"
   ]
  },
  {
   "cell_type": "code",
   "execution_count": 12,
   "metadata": {},
   "outputs": [
    {
     "name": "stdout",
     "output_type": "stream",
     "text": [
      "[[ 6  5  4  3  2]\n",
      " [11 10  9  8  7]\n",
      " [16 15 14 13 12]\n",
      " [21 20 19 18 17]]\n"
     ]
    }
   ],
   "source": [
    "import numpy as np\n",
    "a = np.array ([[21, 20, 19, 18, 17],[16, 15, 14, 13, 12], [11, 10,  9,  8,  7],[ 6,  5,  4,  3,  2]])\n",
    "a.sort(axis=0)\n",
    "print(a)"
   ]
  },
  {
   "cell_type": "code",
   "execution_count": null,
   "metadata": {},
   "outputs": [],
   "source": []
  }
 ],
 "metadata": {
  "kernelspec": {
   "display_name": "Python 3",
   "language": "python",
   "name": "python3"
  },
  "language_info": {
   "codemirror_mode": {
    "name": "ipython",
    "version": 3
   },
   "file_extension": ".py",
   "mimetype": "text/x-python",
   "name": "python",
   "nbconvert_exporter": "python",
   "pygments_lexer": "ipython3",
   "version": "3.8.3"
  }
 },
 "nbformat": 4,
 "nbformat_minor": 4
}
