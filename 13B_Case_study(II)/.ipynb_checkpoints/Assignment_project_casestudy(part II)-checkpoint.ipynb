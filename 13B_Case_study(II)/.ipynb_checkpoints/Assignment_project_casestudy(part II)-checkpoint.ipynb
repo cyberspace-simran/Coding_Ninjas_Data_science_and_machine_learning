{
 "cells": [
  {
   "cell_type": "markdown",
   "metadata": {},
   "source": [
    "1.\tYour Friend has developed the Product and he wants to establish the product startup and he is searching for a perfect location where getting the investment has a high chance. But due to its financial restriction, he can choose only between three locations -  Bangalore, Mumbai, and NCR. As a friend, you want to help your friend deciding the location. NCR include Gurgaon, Noida and New Delhi. Find the location where the most number of funding is done. That means, find the location where startups has received funding maximum number of times. Plot the bar graph between location and number of funding. Take city name \"Delhi\" as \"New Delhi\". Check the case-sensitiveness of cities also. That means, at some place instead of \"Bangalore\", \"bangalore\" is given. Take city name as \"Bangalore\". For few startups multiple locations are given, one Indian and one Foreign. Consider the startup if any one of the city lies in given locations."
   ]
  },
  {
   "cell_type": "code",
   "execution_count": 1,
   "metadata": {},
   "outputs": [
    {
     "name": "stdout",
     "output_type": "stream",
     "text": [
      "NCR\n"
     ]
    },
    {
     "data": {
      "image/png": "[encoded data removed]",
      "text/plain": [
       "<Figure size 432x288 with 1 Axes>"
      ]
     },
     "metadata": {
      "needs_background": "light"
     },
     "output_type": "display_data"
    }
   ],
   "source": [
    "import pandas as pd\n",
    "import matplotlib.pyplot as plt\n",
    "f_startup = pd.read_csv(\"startup_funding.csv\", encoding='utf8')\n",
    "#reading data from startup_funding.csv file\n",
    "\n",
    "df = f_startup.copy() \n",
    "#creating a copy of f_startup dataframe so that we can work on the dataset\n",
    "\n",
    "df.dropna(subset = [\"CityLocation\"],inplace = True) \n",
    "#removing row's having NAN in city location column\n",
    "\n",
    "df[\"CityLocation\"].replace(\"bangalore\",\"Bangalore\",inplace = True)\n",
    "#solving the lower uppercase problems by replacing words\n",
    "\n",
    "df[\"CityLocation\"].replace(\"Delhi\",\"New Delhi\",inplace = True)\n",
    "\n",
    "d1 = {}  \n",
    "#creating the dictionary to maintain the number of fundings in the provided locations\n",
    "\n",
    "for i in df[\"CityLocation\"]: \n",
    "    #using if else .... and traversing through all the locations and maintaining the number of times the provided locations fetched\n",
    "    \n",
    "    if \"Bangalore\" in i:\n",
    "        d1[\"Bangalore\"] = d1.get(\"Bangalore\",0) + 1  \n",
    "    elif \"Mumbai\" in i:\n",
    "        d1[\"Mumbai\"] = d1.get(\"Mumbai\",0) + 1\n",
    "    elif \"New Delhi\" in i:\n",
    "        d1[\"New Delhi\"] = d1.get(\"New Delhi\",0) + 1\n",
    "    elif \"Noida\" in i:\n",
    "        d1[\"Noida\"] = d1.get(\"Noida\",0) + 1\n",
    "    elif \"Gurgaon\" in i:\n",
    "        d1[\"Gurgaon\"] = d1.get(\"Gurgaon\",0) + 1\n",
    "        \n",
    "d1['NCR']=d1['New Delhi']+d1['Gurgaon']+d1['Noida'] # combining the counts for New Delhi,Gurgaon and Noida in NCR\n",
    "del d1['New Delhi'] # deleting these counts now as they are already counted in NCR\n",
    "del d1['Gurgaon']\n",
    "del d1['Noida']\n",
    "        \n",
    "        \n",
    "cities = sorted(d1, key=d1.get , reverse=True)  \n",
    "#sorting the keys in reverse order(descending to ascending) according to the valuesas we need the max value\n",
    "\n",
    "fundings = []  \n",
    "\n",
    "for i in cities: \n",
    "    #traversing through the cities and creating a new list of values \n",
    "    fundings.append(d1[i])\n",
    "    \n",
    "print(cities[0])\n",
    "#printing the location having most number of fundings since in decending order the 1st one will be the answer at index[0]\n",
    "\n",
    "plt.bar(cities,fundings,width = 0.5,color = \"red\" , edgecolor = \"yellow\") \n",
    "#ploting the bar graph....cities vs no of fundings..\n",
    "plt.xlabel(\"Locations\") \n",
    "#labeling x-axis\n",
    "plt.ylabel(\"Number of Fundings\")\n",
    "#labeling y_axis\n",
    "plt.xticks(rotation = 50)\n",
    "#rotating names in x-axis so that we can see the labels properly\n",
    "plt.show()"
   ]
  },
  {
   "cell_type": "markdown",
   "metadata": {},
   "source": [
    "2.\tEven after trying for so many times, your friend’s startup could not find the investment. So you decided to take this matter in your hand and try to find the list of investors who probably can invest in your friend’s startup. Your list will increase the chance of your friend startup getting some initial investment by contacting these investors. Find the top 5 investors who have invested maximum number of times (consider repeat investments in one company also). In a startup, multiple investors might have invested. So consider each investor for that startup. Ignore undisclosed investors.\n",
    "\n"
   ]
  },
  {
   "cell_type": "code",
   "execution_count": 2,
   "metadata": {},
   "outputs": [
    {
     "name": "stdout",
     "output_type": "stream",
     "text": [
      "Sequoia Capital 64\n",
      "Accel Partners 53\n",
      "Kalaari Capital 44\n",
      "SAIF Partners 41\n",
      "Indian Angel Network 40\n"
     ]
    }
   ],
   "source": [
    "import pandas as pd\n",
    "import matplotlib.pyplot as plt\n",
    "f_startup = pd.read_csv(\"startup_funding.csv\", encoding='utf8')\n",
    "#reading data from startup_funding.csv file\n",
    "\n",
    "df = f_startup.copy() \n",
    "#creating a copy of f_startup dataframe so that we can work on the dataset\n",
    "\n",
    "df.dropna(subset = [\"InvestorsName\"],inplace = True)  \n",
    "#removing row's having NAN in Investors name column\n",
    "\n",
    "dict_to_find_no_of_investor = {}  \n",
    "for i in df[\"InvestorsName\"].values:  \n",
    "    #traversing through the investor names.......to see the number of times the names appeared\n",
    "    \n",
    "    if \",\" in i: \n",
    "        #if it contains multiple names ...........then spliting it ..and traversing through each names separately\n",
    "        for j in i.strip().split(','):\n",
    "            dict_to_find_no_of_investor[j.strip()] = dict_to_find_no_of_investor.get(j.strip(),0) + 1\n",
    "    else:\n",
    "        dict_to_find_no_of_investor[i.strip()] = dict_to_find_no_of_investor.get(i.strip(),0) + 1\n",
    "        \n",
    "list=[(frequency,name) for name,frequency in dict_to_find_no_of_investor.items()]\n",
    "reversed_list=sorted(list,reverse=True)[:5]\n",
    "for frequency,name in reversed_list:\n",
    "    print(name,frequency)\n",
    "    \n"
   ]
  },
  {
   "cell_type": "markdown",
   "metadata": {},
   "source": [
    "3.\tAfter re-analysing the dataset you found out that some investors have invested in the same startup at different number of funding rounds. So before finalising the previous list, you want to improvise it by finding the top 5 investors who have invested in different number of startups. This list will be more helpful than your previous list in finding the investment for your friend startup. Find the top 5 investors who have invested maximum number of times in different companies. That means, if one investor has invested multiple times in one startup, count one for that company. There are many errors in startup names. Ignore correcting all, just handle the important ones - Ola, Flipkart, Oyo and Paytm."
   ]
  },
  {
   "cell_type": "code",
   "execution_count": 3,
   "metadata": {},
   "outputs": [
    {
     "name": "stdout",
     "output_type": "stream",
     "text": [
      "Sequoia Capital 48\n",
      "Accel Partners 47\n",
      "Kalaari Capital 41\n",
      "Indian Angel Network 40\n",
      "Blume Ventures 36\n"
     ]
    }
   ],
   "source": [
    "import pandas as pd\n",
    "import matplotlib.pyplot as plt\n",
    "f_startup = pd.read_csv(\"startup_funding.csv\", encoding='utf8')\n",
    "#reading data from startup_funding.csv file\n",
    "\n",
    "df = f_startup.copy() \n",
    "#creating a copy of f_startup dataframe so that we can work on the dataset\n",
    "\n",
    "df.dropna(subset = [\"StartupName\",\"InvestorsName\"],inplace = True)  \n",
    "#removing row's having nan's in Investors name and startupnames columns\n",
    "\n",
    "df[\"StartupName\"].replace(\"Flipkart.com\",\"Flipkart\",inplace = True)  \n",
    "#replacing the wrong word with the correct word & spelling\n",
    "\n",
    "df[\"StartupName\"].replace(\"Ola Cabs\",\"Ola\",inplace = True)\n",
    "df[\"StartupName\"].replace(\"Olacabs\",\"Ola\",inplace = True)\n",
    "df[\"StartupName\"].replace(\"Oyorooms\",\"Oyo\",inplace = True)\n",
    "df[\"StartupName\"].replace(\"OyoRooms\",\"Oyo\",inplace = True)\n",
    "df[\"StartupName\"].replace(\"OYO Rooms\",\"Oyo\",inplace = True)\n",
    "df[\"StartupName\"].replace(\"Oyo Rooms\",\"Oyo\",inplace = True)\n",
    "df[\"StartupName\"].replace(\"Paytm Marketplace\",\"Paytm\",inplace = True)\n",
    "\n",
    "#created a dictionary for investor names \n",
    "# then maintained a set i.e key having investor's name and having a value set of names of stratup in which they did invest\n",
    "#set is taken as a value to avoid count of multiple investment in a single startup by an investor\n",
    "d = {}\n",
    "\n",
    "#in the set there are startup names in which investor's had invested\n",
    "#in case there are multiple investors for a single startup \n",
    "#used split function to split that\n",
    "#and traversed through each name separately\n",
    "\n",
    "for i in df.index:\n",
    "    e = df[\"InvestorsName\"][i].strip()\n",
    "    if \",\" in e:\n",
    "        for j in e.strip().split(','):\n",
    "            if j.strip() in d:\n",
    "                d[j.strip()].add(df[\"StartupName\"][i].strip())\n",
    "            else:\n",
    "                s = set()\n",
    "                d[j.strip()] = s\n",
    "                d[j.strip()].add(df[\"StartupName\"][i].strip())\n",
    "    else:\n",
    "        a = e.strip()\n",
    "        if a in d: \n",
    "            d[a].add(df[\"StartupName\"][i].strip())\n",
    "        else:\n",
    "            s = set()\n",
    "            d[a] = s\n",
    "            d[a].add(df[\"StartupName\"][i].strip())\n",
    "            \n",
    "d1 = {}  \n",
    "#created a dictionary where key is investor's name and value is count of startup's in which they had invested\n",
    "for i in d:\n",
    "    if i == \"\":\n",
    "        continue\n",
    "    d1[i] = len(d[i])\n",
    "    \n",
    "    \n",
    "list=[(frequency,name) for name,frequency in d1.items()]\n",
    "reversed_list=sorted(list,reverse=True)[:5]\n",
    "for frequency,name in reversed_list:\n",
    "    print(name,frequency)\n",
    "    \n",
    "    \n"
   ]
  },
  {
   "cell_type": "markdown",
   "metadata": {},
   "source": [
    "4.\tEven after putting so much effort in finding the probable investors, it didn't turn out to be helpful for your friend. So you went to your investor friend to understand the situation better and your investor friend explained to you about the different Investment Types and their features. This new information will be helpful in finding the right investor. Since your friend startup is at an early stage startup, the best-suited investment type would be - Seed Funding and Crowdfunding. Find the top 5 investors who have invested in a different number of startups and their investment type is Crowdfunding or Seed Funding. Correct spelling of investment types are - \"Private Equity\", \"Seed Funding\", \"Debt Funding\", and \"Crowd Funding\". Keep an eye for any spelling mistake. You can find this by printing unique values from this column. There are many errors in startup names. Ignore correcting all, just handle the important ones - Ola, Flipkart, Oyo and Paytm.\n",
    "\n"
   ]
  },
  {
   "cell_type": "code",
   "execution_count": 4,
   "metadata": {},
   "outputs": [
    {
     "name": "stdout",
     "output_type": "stream",
     "text": [
      "Indian Angel Network 33\n",
      "Rajan Anandan 25\n",
      "LetsVenture 16\n",
      "Anupam Mittal 16\n",
      "Kunal Shah 14\n"
     ]
    }
   ],
   "source": [
    "import numpy as np\n",
    "import pandas as pd\n",
    "import matplotlib.pyplot as plt\n",
    "f_startup = pd.read_csv(\"startup_funding.csv\", encoding='utf8')\n",
    "#reading data from startup_funding.csv file\n",
    "\n",
    "df = f_startup.copy() \n",
    "#creating a copy of f_startup dataframe so that we can work on the dataset\n",
    "\n",
    "df.dropna(subset = [\"InvestorsName\"],inplace = True)\n",
    "#removing row's having nan's in Investors name column..\n",
    "\n",
    "df[\"InvestorsName\"].replace(\"Undisclosed Investors\",\"\",inplace = True)\n",
    "#replacing the undisclosed investors name by null values ..\n",
    "\n",
    "df[\"InvestorsName\"].replace(\"Undisclosed investors\",\"\",inplace = True)\n",
    "df = df[(df[\"InvestmentType\"] == \"Seed Funding\") | (df[\"InvestmentType\"] == \"Crowd Funding\")] \n",
    "#keeping only those rows having investment type seed funding and crowd funding..\n",
    "\n",
    "\n",
    "\n",
    "d = {}  #creating a dictionary to maintain the number of times the investors name appeared \n",
    "\n",
    "for i in df[\"InvestorsName\"].values:  #traversing through the investor names to see the number of times the names appeared\n",
    "    \n",
    "    if \",\" in i:  #if it contains multiple names then we split it and traverse through each names separately\n",
    "        for j in i.strip().split(','):\n",
    "            d[j.strip()] = d.get(j.strip(),0) + 1\n",
    "    else:\n",
    "        d[i.strip()] = d.get(i.strip(),0) + 1\n",
    "        \n",
    "del d[\"\"]\n",
    "#deleting the NULL key from dictionary\n",
    "\n",
    "    \n",
    "    \n",
    "list=[(frequency,name) for name,frequency in d.items()]\n",
    "reversed_list=sorted(list,reverse=True)[:5]\n",
    "for frequency,name in reversed_list:\n",
    "    print(name,frequency)\n",
    "    "
   ]
  },
  {
   "cell_type": "markdown",
   "metadata": {},
   "source": [
    "5.\tDue to your immense help, your friend startup successfully got seed funding and it is on the operational mode. Now your friend wants to expand his startup and he is looking for new investors for his startup. Now you again come as a saviour to help your friend and want to create a list of probable new new investors. Before moving forward you remember your investor friend advice that finding the investors by analysing the investment type. Since your friend startup is not in early phase it is in growth stage so the best-suited investment type is Private Equity. Find the top 5 investors who have invested in a different number of startups and their investment type is Private Equity. Correct spelling of investment types are - \"Private Equity\", \"Seed Funding\", \"Debt Funding\", and \"Crowd Funding\". Keep an eye for any spelling mistake. You can find this by printing unique values from this column.There are many errors in startup names. Ignore correcting all, just handle the important ones - Ola, Flipkart, Oyo and Paytm."
   ]
  },
  {
   "cell_type": "code",
   "execution_count": 5,
   "metadata": {},
   "outputs": [
    {
     "name": "stdout",
     "output_type": "stream",
     "text": [
      "Sequoia Capital 64\n",
      "Accel Partners 53\n",
      "Kalaari Capital 44\n",
      "SAIF Partners 41\n",
      "Indian Angel Network 40\n"
     ]
    }
   ],
   "source": [
    "import numpy as np\n",
    "import pandas as pd\n",
    "import matplotlib.pyplot as plt\n",
    "f_startup = pd.read_csv(\"startup_funding.csv\", encoding='utf8')\n",
    "#reading data from startup_funding.csv file\n",
    "\n",
    "df = f_startup.copy() \n",
    "#creating a copy of f_startup dataframe so that we can work on the dataset\n",
    "\n",
    "df.dropna(subset = [\"InvestorsName\"],inplace = True) \n",
    "#removing row's having NAN in Investors name column..\n",
    "\n",
    "\n",
    "df[\"InvestorsName\"].replace(\"Undisclosed Investors\",\"\",inplace = True)\n",
    "#replacing the undisclosed investors name by null values ..\n",
    "\n",
    "df[\"InvestorsName\"].replace(\"Undisclosed investors\",\"\",inplace = True)\n",
    "\n",
    "df = df[(df[\"InvestmentType\"] == \"Private Equity\")]\n",
    "#keeping only those rows having investment type private equity..\n",
    "\n",
    "d = {}  #creating a dictionary to maintain the number of times the investors name appeared...\n",
    "\n",
    "\n",
    "for i in df[\"InvestorsName\"].values: \n",
    "    #traversing through the investor names..to see the number of times the names appeared..\n",
    "    if \",\" in i: \n",
    "        #if it contains multiple names ..then spliting it ..and traversing through each names separately..\n",
    "        for j in i.strip().split(','):\n",
    "            d[j.strip()] = d.get(j.strip(),0) + 1\n",
    "    else:\n",
    "        d[i.strip()] = d.get(i.strip(),0) + 1\n",
    "        \n",
    "del d[\"\"]\n",
    "#deleting the NULL key from dictionary\n",
    "\n",
    "list=[(frequency,name) for name,frequency in dict_to_find_no_of_investor.items()]\n",
    "reversed_list=sorted(list,reverse=True)[:5]\n",
    "for frequency,name in reversed_list:\n",
    "    print(name,frequency)\n",
    "    "
   ]
  },
  {
   "cell_type": "code",
   "execution_count": null,
   "metadata": {},
   "outputs": [],
   "source": []
  }
 ],
 "metadata": {
  "kernelspec": {
   "display_name": "Python 3",
   "language": "python",
   "name": "python3"
  },
  "language_info": {
   "codemirror_mode": {
    "name": "ipython",
    "version": 3
   },
   "file_extension": ".py",
   "mimetype": "text/x-python",
   "name": "python",
   "nbconvert_exporter": "python",
   "pygments_lexer": "ipython3",
   "version": "3.8.5"
  }
 },
 "nbformat": 4,
 "nbformat_minor": 4
}
